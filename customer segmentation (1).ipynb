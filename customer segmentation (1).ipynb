{
 "cells": [
  {
   "cell_type": "markdown",
   "metadata": {},
   "source": [
    "This is a review of customer data using segmenation:\n",
    "\n",
    "the questons we want to answer are the following:\n",
    "\n",
    "1a) Revenue per member in US, Canada and Others\n",
    "\n",
    "1b) sessions per visitor in US, Canada and Others\n",
    "\n",
    "1c) Average order value (AOV) in US, Canada and Others\n",
    "\n",
    "1d) Traffic in US, Canada and Others\n",
    "\n",
    "1e) visit per visitor in US, Canada and Others\n",
    "\n",
    "1f(i) Add to cart rate in US, Canada and Others\n",
    "\n",
    "1f(ii) Add to cart rate in predict genders\n"
   ]
  },
  {
   "cell_type": "code",
   "execution_count": 3,
   "metadata": {},
   "outputs": [],
   "source": [
    "import pandas as pd\n",
    "import numpy as np\n",
    "import getpass\n",
    "user = getpass.getuser()\n",
    "pd.set_option('display.max_columns', None)\n",
    "pd.set_option('display.max_rows', None)"
   ]
  },
  {
   "cell_type": "code",
   "execution_count": 2,
   "metadata": {},
   "outputs": [
    {
     "data": {
      "text/plain": [
       "'1.3.3'"
      ]
     },
     "execution_count": 2,
     "metadata": {},
     "output_type": "execute_result"
    }
   ],
   "source": [
    "pd.__version__"
   ]
  },
  {
   "cell_type": "markdown",
   "metadata": {},
   "source": [
    "Customer Segmentation"
   ]
  },
  {
   "cell_type": "code",
   "execution_count": 3,
   "metadata": {},
   "outputs": [
    {
     "data": {
      "text/plain": [
       "['SESSION DATA', 'TRANSACTION DATA']"
      ]
     },
     "execution_count": 3,
     "metadata": {},
     "output_type": "execute_result"
    }
   ],
   "source": [
    "address = 'C://Users//'+user+'//Downloads//C_S_Dataset.xlsx'\n",
    "\n",
    "df = pd.ExcelFile(address)\n",
    "sheet = df.sheet_names \n",
    "\n",
    "df.sheet_names  # see all sheet names"
   ]
  },
  {
   "cell_type": "code",
   "execution_count": 4,
   "metadata": {},
   "outputs": [],
   "source": [
    "session = df.parse(sheet[0])\n",
    "\n",
    "trans = df.parse(sheet[1])"
   ]
  },
  {
   "cell_type": "code",
   "execution_count": 5,
   "metadata": {},
   "outputs": [
    {
     "data": {
      "text/html": [
       "<div>\n",
       "<style scoped>\n",
       "    .dataframe tbody tr th:only-of-type {\n",
       "        vertical-align: middle;\n",
       "    }\n",
       "\n",
       "    .dataframe tbody tr th {\n",
       "        vertical-align: top;\n",
       "    }\n",
       "\n",
       "    .dataframe thead th {\n",
       "        text-align: right;\n",
       "    }\n",
       "</style>\n",
       "<table border=\"1\" class=\"dataframe\">\n",
       "  <thead>\n",
       "    <tr style=\"text-align: right;\">\n",
       "      <th></th>\n",
       "      <th>visitId</th>\n",
       "      <th>fullVisitorId</th>\n",
       "      <th>date</th>\n",
       "      <th>memberId</th>\n",
       "      <th>is_newsletter_subscriber</th>\n",
       "      <th>newsletter_gender_communication_preference</th>\n",
       "      <th>country_from_ip</th>\n",
       "      <th>platform</th>\n",
       "      <th>traffic_channel</th>\n",
       "      <th>language_visit</th>\n",
       "      <th>orderId</th>\n",
       "      <th>sum_pdp_menswear_views</th>\n",
       "      <th>sum_pdp_womenswear_views</th>\n",
       "      <th>sum_pdp_everythingelse_views</th>\n",
       "      <th>sum_addtocart_menswear</th>\n",
       "      <th>sum_addtocart_womenswear</th>\n",
       "      <th>sum_addtocart_everythingelse</th>\n",
       "      <th>sum_addtowishlist</th>\n",
       "    </tr>\n",
       "  </thead>\n",
       "  <tbody>\n",
       "    <tr>\n",
       "      <th>0</th>\n",
       "      <td>3243274018916053492-1609526734</td>\n",
       "      <td>3.243274e+18</td>\n",
       "      <td>2021-01-01</td>\n",
       "      <td>196608</td>\n",
       "      <td>no</td>\n",
       "      <td>Womenswear</td>\n",
       "      <td>Canada</td>\n",
       "      <td>Website</td>\n",
       "      <td>Paid</td>\n",
       "      <td>English</td>\n",
       "      <td>NaN</td>\n",
       "      <td>3</td>\n",
       "      <td>0</td>\n",
       "      <td>0</td>\n",
       "      <td>0</td>\n",
       "      <td>0</td>\n",
       "      <td>0</td>\n",
       "      <td>0</td>\n",
       "    </tr>\n",
       "  </tbody>\n",
       "</table>\n",
       "</div>"
      ],
      "text/plain": [
       "                          visitId  fullVisitorId       date  memberId  \\\n",
       "0  3243274018916053492-1609526734   3.243274e+18 2021-01-01    196608   \n",
       "\n",
       "  is_newsletter_subscriber newsletter_gender_communication_preference  \\\n",
       "0                       no                                 Womenswear   \n",
       "\n",
       "  country_from_ip platform traffic_channel language_visit  orderId  \\\n",
       "0          Canada  Website            Paid        English      NaN   \n",
       "\n",
       "   sum_pdp_menswear_views  sum_pdp_womenswear_views  \\\n",
       "0                       3                         0   \n",
       "\n",
       "   sum_pdp_everythingelse_views  sum_addtocart_menswear  \\\n",
       "0                             0                       0   \n",
       "\n",
       "   sum_addtocart_womenswear  sum_addtocart_everythingelse  sum_addtowishlist  \n",
       "0                         0                             0                  0  "
      ]
     },
     "execution_count": 5,
     "metadata": {},
     "output_type": "execute_result"
    }
   ],
   "source": [
    "session.head(1)"
   ]
  },
  {
   "cell_type": "code",
   "execution_count": 6,
   "metadata": {},
   "outputs": [
    {
     "data": {
      "text/html": [
       "<div>\n",
       "<style scoped>\n",
       "    .dataframe tbody tr th:only-of-type {\n",
       "        vertical-align: middle;\n",
       "    }\n",
       "\n",
       "    .dataframe tbody tr th {\n",
       "        vertical-align: top;\n",
       "    }\n",
       "\n",
       "    .dataframe thead th {\n",
       "        text-align: right;\n",
       "    }\n",
       "</style>\n",
       "<table border=\"1\" class=\"dataframe\">\n",
       "  <thead>\n",
       "    <tr style=\"text-align: right;\">\n",
       "      <th></th>\n",
       "      <th>date</th>\n",
       "      <th>orderId</th>\n",
       "      <th>member_Id</th>\n",
       "      <th>is_discounted_order</th>\n",
       "      <th>gross_revenue</th>\n",
       "      <th>gross_revenue_before_discount</th>\n",
       "      <th>sum_units_sold</th>\n",
       "      <th>sum_units_returned</th>\n",
       "    </tr>\n",
       "  </thead>\n",
       "  <tbody>\n",
       "    <tr>\n",
       "      <th>0</th>\n",
       "      <td>2021-05-18</td>\n",
       "      <td>1152389539624</td>\n",
       "      <td>20792069</td>\n",
       "      <td>0</td>\n",
       "      <td>1492.086505</td>\n",
       "      <td>1492.086505</td>\n",
       "      <td>13</td>\n",
       "      <td>0</td>\n",
       "    </tr>\n",
       "  </tbody>\n",
       "</table>\n",
       "</div>"
      ],
      "text/plain": [
       "        date        orderId  member_Id  is_discounted_order  gross_revenue  \\\n",
       "0 2021-05-18  1152389539624   20792069                    0    1492.086505   \n",
       "\n",
       "   gross_revenue_before_discount  sum_units_sold  sum_units_returned  \n",
       "0                    1492.086505              13                   0  "
      ]
     },
     "execution_count": 6,
     "metadata": {},
     "output_type": "execute_result"
    }
   ],
   "source": [
    "trans.head(1)"
   ]
  },
  {
   "cell_type": "code",
   "execution_count": 7,
   "metadata": {},
   "outputs": [
    {
     "data": {
      "text/plain": [
       "['visitId',\n",
       " 'fullVisitorId',\n",
       " 'date',\n",
       " 'memberId',\n",
       " 'is_newsletter_subscriber',\n",
       " 'newsletter_gender_communication_preference',\n",
       " 'country_from_ip',\n",
       " 'platform',\n",
       " 'traffic_channel',\n",
       " 'language_visit',\n",
       " 'orderId',\n",
       " 'sum_pdp_menswear_views',\n",
       " 'sum_pdp_womenswear_views',\n",
       " 'sum_pdp_everythingelse_views',\n",
       " 'sum_addtocart_menswear',\n",
       " 'sum_addtocart_womenswear',\n",
       " 'sum_addtocart_everythingelse',\n",
       " 'sum_addtowishlist']"
      ]
     },
     "execution_count": 7,
     "metadata": {},
     "output_type": "execute_result"
    }
   ],
   "source": [
    "session.columns.to_list()"
   ]
  },
  {
   "cell_type": "code",
   "execution_count": 8,
   "metadata": {},
   "outputs": [
    {
     "data": {
      "text/plain": [
       "['date',\n",
       " 'orderId',\n",
       " 'member_Id',\n",
       " 'is_discounted_order',\n",
       " 'gross_revenue',\n",
       " 'gross_revenue_before_discount',\n",
       " 'sum_units_sold',\n",
       " 'sum_units_returned']"
      ]
     },
     "execution_count": 8,
     "metadata": {},
     "output_type": "execute_result"
    }
   ],
   "source": [
    "trans.columns.to_list()"
   ]
  },
  {
   "cell_type": "code",
   "execution_count": 9,
   "metadata": {},
   "outputs": [],
   "source": [
    "#rename column anmes\n",
    "trans.rename(columns={'member_Id':'memberId'}, inplace=True)"
   ]
  },
  {
   "cell_type": "code",
   "execution_count": 10,
   "metadata": {},
   "outputs": [
    {
     "data": {
      "text/plain": [
       "['date',\n",
       " 'orderId',\n",
       " 'memberId',\n",
       " 'is_discounted_order',\n",
       " 'gross_revenue',\n",
       " 'gross_revenue_before_discount',\n",
       " 'sum_units_sold',\n",
       " 'sum_units_returned']"
      ]
     },
     "execution_count": 10,
     "metadata": {},
     "output_type": "execute_result"
    }
   ],
   "source": [
    "trans.columns.to_list()"
   ]
  },
  {
   "cell_type": "code",
   "execution_count": 11,
   "metadata": {},
   "outputs": [
    {
     "data": {
      "text/plain": [
       "visitId                                            0\n",
       "fullVisitorId                                      0\n",
       "date                                               0\n",
       "memberId                                           0\n",
       "is_newsletter_subscriber                           0\n",
       "newsletter_gender_communication_preference         0\n",
       "country_from_ip                                    0\n",
       "platform                                           0\n",
       "traffic_channel                                    0\n",
       "language_visit                                     0\n",
       "orderId                                       135608\n",
       "sum_pdp_menswear_views                             0\n",
       "sum_pdp_womenswear_views                           0\n",
       "sum_pdp_everythingelse_views                       0\n",
       "sum_addtocart_menswear                             0\n",
       "sum_addtocart_womenswear                           0\n",
       "sum_addtocart_everythingelse                       0\n",
       "sum_addtowishlist                                  0\n",
       "dtype: int64"
      ]
     },
     "execution_count": 11,
     "metadata": {},
     "output_type": "execute_result"
    }
   ],
   "source": [
    "session.isnull().sum()\n",
    "# finds where there are nan values we have them in orderID"
   ]
  },
  {
   "cell_type": "code",
   "execution_count": 12,
   "metadata": {},
   "outputs": [
    {
     "data": {
      "text/plain": [
       "date                             0\n",
       "orderId                          0\n",
       "memberId                         0\n",
       "is_discounted_order              0\n",
       "gross_revenue                    0\n",
       "gross_revenue_before_discount    8\n",
       "sum_units_sold                   0\n",
       "sum_units_returned               0\n",
       "dtype: int64"
      ]
     },
     "execution_count": 12,
     "metadata": {},
     "output_type": "execute_result"
    }
   ],
   "source": [
    "trans.isnull().sum()\n",
    "#finds where we have some nan values for gross_revenue_before_discount"
   ]
  },
  {
   "cell_type": "code",
   "execution_count": 13,
   "metadata": {},
   "outputs": [
    {
     "data": {
      "text/html": [
       "<div>\n",
       "<style scoped>\n",
       "    .dataframe tbody tr th:only-of-type {\n",
       "        vertical-align: middle;\n",
       "    }\n",
       "\n",
       "    .dataframe tbody tr th {\n",
       "        vertical-align: top;\n",
       "    }\n",
       "\n",
       "    .dataframe thead th {\n",
       "        text-align: right;\n",
       "    }\n",
       "</style>\n",
       "<table border=\"1\" class=\"dataframe\">\n",
       "  <thead>\n",
       "    <tr style=\"text-align: right;\">\n",
       "      <th></th>\n",
       "      <th>date</th>\n",
       "      <th>orderId</th>\n",
       "      <th>memberId</th>\n",
       "      <th>is_discounted_order</th>\n",
       "      <th>gross_revenue</th>\n",
       "      <th>gross_revenue_before_discount</th>\n",
       "      <th>sum_units_sold</th>\n",
       "      <th>sum_units_returned</th>\n",
       "    </tr>\n",
       "  </thead>\n",
       "  <tbody>\n",
       "    <tr>\n",
       "      <th>0</th>\n",
       "      <td>2021-05-18</td>\n",
       "      <td>1152389539624</td>\n",
       "      <td>20792069</td>\n",
       "      <td>0</td>\n",
       "      <td>1492.086505</td>\n",
       "      <td>1492.086505</td>\n",
       "      <td>13</td>\n",
       "      <td>0</td>\n",
       "    </tr>\n",
       "    <tr>\n",
       "      <th>1</th>\n",
       "      <td>2021-01-15</td>\n",
       "      <td>1073058496294</td>\n",
       "      <td>25109761</td>\n",
       "      <td>0</td>\n",
       "      <td>1100.847779</td>\n",
       "      <td>1100.847779</td>\n",
       "      <td>9</td>\n",
       "      <td>0</td>\n",
       "    </tr>\n",
       "  </tbody>\n",
       "</table>\n",
       "</div>"
      ],
      "text/plain": [
       "        date        orderId  memberId  is_discounted_order  gross_revenue  \\\n",
       "0 2021-05-18  1152389539624  20792069                    0    1492.086505   \n",
       "1 2021-01-15  1073058496294  25109761                    0    1100.847779   \n",
       "\n",
       "   gross_revenue_before_discount  sum_units_sold  sum_units_returned  \n",
       "0                    1492.086505              13                   0  \n",
       "1                    1100.847779               9                   0  "
      ]
     },
     "execution_count": 13,
     "metadata": {},
     "output_type": "execute_result"
    }
   ],
   "source": [
    "trans.head(2)"
   ]
  },
  {
   "cell_type": "code",
   "execution_count": 14,
   "metadata": {},
   "outputs": [
    {
     "data": {
      "image/png": "[encoded data removed]",
      "text/plain": [
       "<Figure size 432x288 with 1 Axes>"
      ]
     },
     "metadata": {
      "needs_background": "light"
     },
     "output_type": "display_data"
    }
   ],
   "source": [
    "import matplotlib.pyplot as plt\n",
    "from datetime import datetime as dt\n",
    "\n",
    "\n",
    "def chart_month(a):\n",
    "    a.groupby(a[\"date\"].dt.month).count().plot(kind=\"bar\", y='memberId')\n",
    "    plt.show()\n",
    "    \n",
    "chart_month(trans)"
   ]
  },
  {
   "cell_type": "code",
   "execution_count": 15,
   "metadata": {},
   "outputs": [
    {
     "data": {
      "image/png": "[encoded data removed]",
      "text/plain": [
       "<Figure size 432x288 with 1 Axes>"
      ]
     },
     "metadata": {
      "needs_background": "light"
     },
     "output_type": "display_data"
    }
   ],
   "source": [
    "def chart_area(a):\n",
    "    a.groupby(a[\"country_from_ip\"]).count().plot(kind=\"bar\", y='memberId')\n",
    "    plt.show()\n",
    "    \n",
    "chart_area(session)"
   ]
  },
  {
   "cell_type": "code",
   "execution_count": 16,
   "metadata": {},
   "outputs": [
    {
     "name": "stdout",
     "output_type": "stream",
     "text": [
      "2020-01-01 00:00:00 is the min date\n",
      "2021-05-30 00:00:00 is the max date\n",
      "515 days 00:00:00 is the differences\n"
     ]
    },
    {
     "data": {
      "text/plain": [
       "'is was pulled from trans'"
      ]
     },
     "execution_count": 16,
     "metadata": {},
     "output_type": "execute_result"
    }
   ],
   "source": [
    "#timebound for transaction\n",
    "\n",
    "def time (a):\n",
    "    print(str(a[\"date\"].min()) + ' is the min date')\n",
    "    print(str(a[\"date\"].max()) + ' is the max date')\n",
    "    print (str(a[\"date\"].max() - a[\"date\"].min() ) + ' is the differences')\n",
    "    \n",
    "    name =[x for x in globals() if globals()[x] is a][0]\n",
    "    return 'is was pulled from ' +  str(name)\n",
    "\n",
    "time(trans)"
   ]
  },
  {
   "cell_type": "code",
   "execution_count": 17,
   "metadata": {},
   "outputs": [
    {
     "name": "stdout",
     "output_type": "stream",
     "text": [
      "2021-01-01 00:00:00 is the min date\n",
      "2021-05-30 00:00:00 is the max date\n",
      "149 days 00:00:00 is the differences\n"
     ]
    },
    {
     "data": {
      "text/plain": [
       "'is was pulled from session'"
      ]
     },
     "execution_count": 17,
     "metadata": {},
     "output_type": "execute_result"
    }
   ],
   "source": [
    "time(session)"
   ]
  },
  {
   "cell_type": "code",
   "execution_count": 18,
   "metadata": {},
   "outputs": [],
   "source": [
    "#extract the timebound we want\n",
    "time = '2020-12-31'\n",
    "trans_2021 = trans[trans.date > time]"
   ]
  },
  {
   "cell_type": "code",
   "execution_count": 19,
   "metadata": {},
   "outputs": [
    {
     "data": {
      "text/html": [
       "<div>\n",
       "<style scoped>\n",
       "    .dataframe tbody tr th:only-of-type {\n",
       "        vertical-align: middle;\n",
       "    }\n",
       "\n",
       "    .dataframe tbody tr th {\n",
       "        vertical-align: top;\n",
       "    }\n",
       "\n",
       "    .dataframe thead th {\n",
       "        text-align: right;\n",
       "    }\n",
       "</style>\n",
       "<table border=\"1\" class=\"dataframe\">\n",
       "  <thead>\n",
       "    <tr style=\"text-align: right;\">\n",
       "      <th></th>\n",
       "      <th>date</th>\n",
       "      <th>orderId</th>\n",
       "      <th>memberId</th>\n",
       "      <th>is_discounted_order</th>\n",
       "      <th>gross_revenue</th>\n",
       "      <th>gross_revenue_before_discount</th>\n",
       "      <th>sum_units_sold</th>\n",
       "      <th>sum_units_returned</th>\n",
       "    </tr>\n",
       "  </thead>\n",
       "  <tbody>\n",
       "    <tr>\n",
       "      <th>0</th>\n",
       "      <td>2021-05-18</td>\n",
       "      <td>1152389539624</td>\n",
       "      <td>20792069</td>\n",
       "      <td>0</td>\n",
       "      <td>1492.086505</td>\n",
       "      <td>1492.086505</td>\n",
       "      <td>13</td>\n",
       "      <td>0</td>\n",
       "    </tr>\n",
       "  </tbody>\n",
       "</table>\n",
       "</div>"
      ],
      "text/plain": [
       "        date        orderId  memberId  is_discounted_order  gross_revenue  \\\n",
       "0 2021-05-18  1152389539624  20792069                    0    1492.086505   \n",
       "\n",
       "   gross_revenue_before_discount  sum_units_sold  sum_units_returned  \n",
       "0                    1492.086505              13                   0  "
      ]
     },
     "execution_count": 19,
     "metadata": {},
     "output_type": "execute_result"
    }
   ],
   "source": [
    "trans_2021.head(1)"
   ]
  },
  {
   "cell_type": "code",
   "execution_count": 20,
   "metadata": {},
   "outputs": [
    {
     "name": "stdout",
     "output_type": "stream",
     "text": [
      "2021-01-01 00:00:00\n",
      "2021-05-30 00:00:00\n",
      "The data is from 0.5 year transaction\n"
     ]
    }
   ],
   "source": [
    "# time(trans_2021)\n",
    "\n",
    "print(trans_2021[\"date\"].min())\n",
    "print(trans_2021[\"date\"].max())\n",
    "print(\"The data is from 0.5 year transaction\")"
   ]
  },
  {
   "cell_type": "code",
   "execution_count": 21,
   "metadata": {},
   "outputs": [],
   "source": [
    "# do left merge from session to transaction as all_df\n",
    "\n",
    "all_df = pd.merge(trans_2021,session,how = 'outer', on = \"memberId\")"
   ]
  },
  {
   "cell_type": "code",
   "execution_count": 22,
   "metadata": {},
   "outputs": [
    {
     "data": {
      "text/plain": [
       "date_x                                         33286\n",
       "orderId_x                                      33286\n",
       "memberId                                           0\n",
       "is_discounted_order                            33286\n",
       "gross_revenue                                  33286\n",
       "gross_revenue_before_discount                  33401\n",
       "sum_units_sold                                 33286\n",
       "sum_units_returned                             33286\n",
       "visitId                                            0\n",
       "fullVisitorId                                      0\n",
       "date_y                                             0\n",
       "is_newsletter_subscriber                           0\n",
       "newsletter_gender_communication_preference         0\n",
       "country_from_ip                                    0\n",
       "platform                                           0\n",
       "traffic_channel                                    0\n",
       "language_visit                                     0\n",
       "orderId_y                                     376187\n",
       "sum_pdp_menswear_views                             0\n",
       "sum_pdp_womenswear_views                           0\n",
       "sum_pdp_everythingelse_views                       0\n",
       "sum_addtocart_menswear                             0\n",
       "sum_addtocart_womenswear                           0\n",
       "sum_addtocart_everythingelse                       0\n",
       "sum_addtowishlist                                  0\n",
       "dtype: int64"
      ]
     },
     "execution_count": 22,
     "metadata": {},
     "output_type": "execute_result"
    }
   ],
   "source": [
    "all_df.isnull().sum()"
   ]
  },
  {
   "cell_type": "code",
   "execution_count": 23,
   "metadata": {},
   "outputs": [
    {
     "data": {
      "text/plain": [
       "date_x                                           150\n",
       "orderId_x                                       9585\n",
       "memberId                                        5344\n",
       "is_discounted_order                                2\n",
       "gross_revenue                                   6206\n",
       "gross_revenue_before_discount                   6541\n",
       "sum_units_sold                                    24\n",
       "sum_units_returned                                17\n",
       "visitId                                       140048\n",
       "fullVisitorId                                  24935\n",
       "date_y                                           150\n",
       "is_newsletter_subscriber                           2\n",
       "newsletter_gender_communication_preference         2\n",
       "country_from_ip                                    3\n",
       "platform                                           2\n",
       "traffic_channel                                    3\n",
       "language_visit                                     2\n",
       "orderId_y                                       4572\n",
       "sum_pdp_menswear_views                            54\n",
       "sum_pdp_womenswear_views                          54\n",
       "sum_pdp_everythingelse_views                      31\n",
       "sum_addtocart_menswear                            25\n",
       "sum_addtocart_womenswear                          20\n",
       "sum_addtocart_everythingelse                      14\n",
       "sum_addtowishlist                                 29\n",
       "dtype: int64"
      ]
     },
     "execution_count": 23,
     "metadata": {},
     "output_type": "execute_result"
    }
   ],
   "source": [
    "all_df.nunique()"
   ]
  },
  {
   "cell_type": "markdown",
   "metadata": {},
   "source": [
    "Exploratory Data Analysis"
   ]
  },
  {
   "cell_type": "markdown",
   "metadata": {},
   "source": [
    "1a) Revenue per member in US, Canada and Others"
   ]
  },
  {
   "cell_type": "code",
   "execution_count": 24,
   "metadata": {},
   "outputs": [
    {
     "data": {
      "text/html": [
       "<div>\n",
       "<style scoped>\n",
       "    .dataframe tbody tr th:only-of-type {\n",
       "        vertical-align: middle;\n",
       "    }\n",
       "\n",
       "    .dataframe tbody tr th {\n",
       "        vertical-align: top;\n",
       "    }\n",
       "\n",
       "    .dataframe thead th {\n",
       "        text-align: right;\n",
       "    }\n",
       "</style>\n",
       "<table border=\"1\" class=\"dataframe\">\n",
       "  <thead>\n",
       "    <tr style=\"text-align: right;\">\n",
       "      <th></th>\n",
       "      <th>date_x</th>\n",
       "      <th>orderId_x</th>\n",
       "      <th>memberId</th>\n",
       "      <th>is_discounted_order</th>\n",
       "      <th>gross_revenue</th>\n",
       "      <th>gross_revenue_before_discount</th>\n",
       "      <th>sum_units_sold</th>\n",
       "      <th>sum_units_returned</th>\n",
       "      <th>visitId</th>\n",
       "      <th>fullVisitorId</th>\n",
       "      <th>date_y</th>\n",
       "      <th>is_newsletter_subscriber</th>\n",
       "      <th>newsletter_gender_communication_preference</th>\n",
       "      <th>country_from_ip</th>\n",
       "      <th>platform</th>\n",
       "      <th>traffic_channel</th>\n",
       "      <th>language_visit</th>\n",
       "      <th>orderId_y</th>\n",
       "      <th>sum_pdp_menswear_views</th>\n",
       "      <th>sum_pdp_womenswear_views</th>\n",
       "      <th>sum_pdp_everythingelse_views</th>\n",
       "      <th>sum_addtocart_menswear</th>\n",
       "      <th>sum_addtocart_womenswear</th>\n",
       "      <th>sum_addtocart_everythingelse</th>\n",
       "      <th>sum_addtowishlist</th>\n",
       "    </tr>\n",
       "  </thead>\n",
       "  <tbody>\n",
       "    <tr>\n",
       "      <th>0</th>\n",
       "      <td>2021-05-18</td>\n",
       "      <td>1.152390e+12</td>\n",
       "      <td>20792069</td>\n",
       "      <td>0.0</td>\n",
       "      <td>1492.086505</td>\n",
       "      <td>1492.086505</td>\n",
       "      <td>13.0</td>\n",
       "      <td>0.0</td>\n",
       "      <td>385538647184738199-1621198743</td>\n",
       "      <td>3.855386e+17</td>\n",
       "      <td>2021-05-16</td>\n",
       "      <td>yes</td>\n",
       "      <td>Womenswear</td>\n",
       "      <td>US</td>\n",
       "      <td>Website</td>\n",
       "      <td>Affiliate</td>\n",
       "      <td>English</td>\n",
       "      <td>NaN</td>\n",
       "      <td>0</td>\n",
       "      <td>1</td>\n",
       "      <td>0</td>\n",
       "      <td>0</td>\n",
       "      <td>0</td>\n",
       "      <td>0</td>\n",
       "      <td>0</td>\n",
       "    </tr>\n",
       "    <tr>\n",
       "      <th>1</th>\n",
       "      <td>2021-05-18</td>\n",
       "      <td>1.152390e+12</td>\n",
       "      <td>20792069</td>\n",
       "      <td>0.0</td>\n",
       "      <td>1492.086505</td>\n",
       "      <td>1492.086505</td>\n",
       "      <td>13.0</td>\n",
       "      <td>0.0</td>\n",
       "      <td>385538647184738199-1621258351</td>\n",
       "      <td>3.855386e+17</td>\n",
       "      <td>2021-05-17</td>\n",
       "      <td>yes</td>\n",
       "      <td>Womenswear</td>\n",
       "      <td>US</td>\n",
       "      <td>Website</td>\n",
       "      <td>Affiliate</td>\n",
       "      <td>English</td>\n",
       "      <td>NaN</td>\n",
       "      <td>0</td>\n",
       "      <td>1</td>\n",
       "      <td>0</td>\n",
       "      <td>0</td>\n",
       "      <td>0</td>\n",
       "      <td>0</td>\n",
       "      <td>0</td>\n",
       "    </tr>\n",
       "  </tbody>\n",
       "</table>\n",
       "</div>"
      ],
      "text/plain": [
       "      date_x     orderId_x  memberId  is_discounted_order  gross_revenue  \\\n",
       "0 2021-05-18  1.152390e+12  20792069                  0.0    1492.086505   \n",
       "1 2021-05-18  1.152390e+12  20792069                  0.0    1492.086505   \n",
       "\n",
       "   gross_revenue_before_discount  sum_units_sold  sum_units_returned  \\\n",
       "0                    1492.086505            13.0                 0.0   \n",
       "1                    1492.086505            13.0                 0.0   \n",
       "\n",
       "                         visitId  fullVisitorId     date_y  \\\n",
       "0  385538647184738199-1621198743   3.855386e+17 2021-05-16   \n",
       "1  385538647184738199-1621258351   3.855386e+17 2021-05-17   \n",
       "\n",
       "  is_newsletter_subscriber newsletter_gender_communication_preference  \\\n",
       "0                      yes                                 Womenswear   \n",
       "1                      yes                                 Womenswear   \n",
       "\n",
       "  country_from_ip platform traffic_channel language_visit  orderId_y  \\\n",
       "0              US  Website       Affiliate        English        NaN   \n",
       "1              US  Website       Affiliate        English        NaN   \n",
       "\n",
       "   sum_pdp_menswear_views  sum_pdp_womenswear_views  \\\n",
       "0                       0                         1   \n",
       "1                       0                         1   \n",
       "\n",
       "   sum_pdp_everythingelse_views  sum_addtocart_menswear  \\\n",
       "0                             0                       0   \n",
       "1                             0                       0   \n",
       "\n",
       "   sum_addtocart_womenswear  sum_addtocart_everythingelse  sum_addtowishlist  \n",
       "0                         0                             0                  0  \n",
       "1                         0                             0                  0  "
      ]
     },
     "execution_count": 24,
     "metadata": {},
     "output_type": "execute_result"
    }
   ],
   "source": [
    "all_df.head(2)"
   ]
  },
  {
   "cell_type": "code",
   "execution_count": 25,
   "metadata": {},
   "outputs": [],
   "source": [
    "Q1a = all_df[['memberId','gross_revenue','country_from_ip']]\n",
    "Q1a = Q1a.drop_duplicates()\n"
   ]
  },
  {
   "cell_type": "code",
   "execution_count": 26,
   "metadata": {},
   "outputs": [],
   "source": [
    "Q1a_1 = Q1a.groupby('country_from_ip').agg(\n",
    "    {'memberId':pd.Series.nunique,'gross_revenue':np.sum})"
   ]
  },
  {
   "cell_type": "code",
   "execution_count": 27,
   "metadata": {},
   "outputs": [
    {
     "data": {
      "text/html": [
       "<div>\n",
       "<style scoped>\n",
       "    .dataframe tbody tr th:only-of-type {\n",
       "        vertical-align: middle;\n",
       "    }\n",
       "\n",
       "    .dataframe tbody tr th {\n",
       "        vertical-align: top;\n",
       "    }\n",
       "\n",
       "    .dataframe thead th {\n",
       "        text-align: right;\n",
       "    }\n",
       "</style>\n",
       "<table border=\"1\" class=\"dataframe\">\n",
       "  <thead>\n",
       "    <tr style=\"text-align: right;\">\n",
       "      <th></th>\n",
       "      <th>memberId</th>\n",
       "      <th>gross_revenue</th>\n",
       "    </tr>\n",
       "    <tr>\n",
       "      <th>country_from_ip</th>\n",
       "      <th></th>\n",
       "      <th></th>\n",
       "    </tr>\n",
       "  </thead>\n",
       "  <tbody>\n",
       "    <tr>\n",
       "      <th>Canada</th>\n",
       "      <td>1448</td>\n",
       "      <td>1.132987e+06</td>\n",
       "    </tr>\n",
       "    <tr>\n",
       "      <th>Others</th>\n",
       "      <td>1737</td>\n",
       "      <td>1.256994e+06</td>\n",
       "    </tr>\n",
       "    <tr>\n",
       "      <th>US</th>\n",
       "      <td>2660</td>\n",
       "      <td>2.298474e+06</td>\n",
       "    </tr>\n",
       "  </tbody>\n",
       "</table>\n",
       "</div>"
      ],
      "text/plain": [
       "                 memberId  gross_revenue\n",
       "country_from_ip                         \n",
       "Canada               1448   1.132987e+06\n",
       "Others               1737   1.256994e+06\n",
       "US                   2660   2.298474e+06"
      ]
     },
     "execution_count": 27,
     "metadata": {},
     "output_type": "execute_result"
    }
   ],
   "source": [
    "Q1a_1"
   ]
  },
  {
   "cell_type": "code",
   "execution_count": 28,
   "metadata": {},
   "outputs": [
    {
     "data": {
      "text/plain": [
       "country_from_ip\n",
       "Canada    782.449270\n",
       "Others    723.658178\n",
       "US        864.087934\n",
       "dtype: float64"
      ]
     },
     "execution_count": 28,
     "metadata": {},
     "output_type": "execute_result"
    }
   ],
   "source": [
    "revenue_per_member = Q1a_1.gross_revenue/Q1a_1.memberId\n",
    "revenue_per_member"
   ]
  },
  {
   "cell_type": "code",
   "execution_count": 29,
   "metadata": {},
   "outputs": [
    {
     "data": {
      "text/plain": [
       "<AxesSubplot:xlabel='country_from_ip'>"
      ]
     },
     "execution_count": 29,
     "metadata": {},
     "output_type": "execute_result"
    },
    {
     "data": {
      "image/png": "[encoded data removed]",
      "text/plain": [
       "<Figure size 432x288 with 1 Axes>"
      ]
     },
     "metadata": {
      "needs_background": "light"
     },
     "output_type": "display_data"
    }
   ],
   "source": [
    "revenue_per_member.plot.bar()"
   ]
  },
  {
   "cell_type": "markdown",
   "metadata": {},
   "source": [
    "1b) sessions per visitor in US, Canada and Others"
   ]
  },
  {
   "cell_type": "code",
   "execution_count": 30,
   "metadata": {},
   "outputs": [
    {
     "data": {
      "text/plain": [
       "['date_x',\n",
       " 'orderId_x',\n",
       " 'memberId',\n",
       " 'is_discounted_order',\n",
       " 'gross_revenue',\n",
       " 'gross_revenue_before_discount',\n",
       " 'sum_units_sold',\n",
       " 'sum_units_returned',\n",
       " 'visitId',\n",
       " 'fullVisitorId',\n",
       " 'date_y',\n",
       " 'is_newsletter_subscriber',\n",
       " 'newsletter_gender_communication_preference',\n",
       " 'country_from_ip',\n",
       " 'platform',\n",
       " 'traffic_channel',\n",
       " 'language_visit',\n",
       " 'orderId_y',\n",
       " 'sum_pdp_menswear_views',\n",
       " 'sum_pdp_womenswear_views',\n",
       " 'sum_pdp_everythingelse_views',\n",
       " 'sum_addtocart_menswear',\n",
       " 'sum_addtocart_womenswear',\n",
       " 'sum_addtocart_everythingelse',\n",
       " 'sum_addtowishlist']"
      ]
     },
     "execution_count": 30,
     "metadata": {},
     "output_type": "execute_result"
    }
   ],
   "source": [
    "all_df.columns.to_list()"
   ]
  },
  {
   "cell_type": "code",
   "execution_count": 31,
   "metadata": {},
   "outputs": [
    {
     "data": {
      "text/html": [
       "<div>\n",
       "<style scoped>\n",
       "    .dataframe tbody tr th:only-of-type {\n",
       "        vertical-align: middle;\n",
       "    }\n",
       "\n",
       "    .dataframe tbody tr th {\n",
       "        vertical-align: top;\n",
       "    }\n",
       "\n",
       "    .dataframe thead th {\n",
       "        text-align: right;\n",
       "    }\n",
       "</style>\n",
       "<table border=\"1\" class=\"dataframe\">\n",
       "  <thead>\n",
       "    <tr style=\"text-align: right;\">\n",
       "      <th></th>\n",
       "      <th>visitId</th>\n",
       "      <th>sum_pdp_menswear_views</th>\n",
       "      <th>sum_pdp_womenswear_views</th>\n",
       "      <th>sum_pdp_everythingelse_views</th>\n",
       "      <th>country_from_ip</th>\n",
       "    </tr>\n",
       "  </thead>\n",
       "  <tbody>\n",
       "    <tr>\n",
       "      <th>0</th>\n",
       "      <td>385538647184738199-1621198743</td>\n",
       "      <td>0</td>\n",
       "      <td>1</td>\n",
       "      <td>0</td>\n",
       "      <td>US</td>\n",
       "    </tr>\n",
       "    <tr>\n",
       "      <th>1</th>\n",
       "      <td>385538647184738199-1621258351</td>\n",
       "      <td>0</td>\n",
       "      <td>1</td>\n",
       "      <td>0</td>\n",
       "      <td>US</td>\n",
       "    </tr>\n",
       "    <tr>\n",
       "      <th>2</th>\n",
       "      <td>385538647184738199-1621343417</td>\n",
       "      <td>0</td>\n",
       "      <td>2</td>\n",
       "      <td>0</td>\n",
       "      <td>US</td>\n",
       "    </tr>\n",
       "    <tr>\n",
       "      <th>3</th>\n",
       "      <td>385538647184738199-1621350882</td>\n",
       "      <td>0</td>\n",
       "      <td>0</td>\n",
       "      <td>0</td>\n",
       "      <td>US</td>\n",
       "    </tr>\n",
       "    <tr>\n",
       "      <th>4</th>\n",
       "      <td>385538647184738199-1621376621</td>\n",
       "      <td>0</td>\n",
       "      <td>1</td>\n",
       "      <td>0</td>\n",
       "      <td>US</td>\n",
       "    </tr>\n",
       "    <tr>\n",
       "      <th>5</th>\n",
       "      <td>385538647184738199-1621604755</td>\n",
       "      <td>1</td>\n",
       "      <td>0</td>\n",
       "      <td>0</td>\n",
       "      <td>US</td>\n",
       "    </tr>\n",
       "    <tr>\n",
       "      <th>6</th>\n",
       "      <td>385538647184738199-1621610027</td>\n",
       "      <td>2</td>\n",
       "      <td>2</td>\n",
       "      <td>0</td>\n",
       "      <td>US</td>\n",
       "    </tr>\n",
       "    <tr>\n",
       "      <th>7</th>\n",
       "      <td>385538647184738199-1621619807</td>\n",
       "      <td>0</td>\n",
       "      <td>1</td>\n",
       "      <td>0</td>\n",
       "      <td>US</td>\n",
       "    </tr>\n",
       "    <tr>\n",
       "      <th>8</th>\n",
       "      <td>385538647184738199-1621705187</td>\n",
       "      <td>0</td>\n",
       "      <td>0</td>\n",
       "      <td>0</td>\n",
       "      <td>US</td>\n",
       "    </tr>\n",
       "    <tr>\n",
       "      <th>9</th>\n",
       "      <td>385538647184738199-1621709109</td>\n",
       "      <td>0</td>\n",
       "      <td>0</td>\n",
       "      <td>0</td>\n",
       "      <td>US</td>\n",
       "    </tr>\n",
       "  </tbody>\n",
       "</table>\n",
       "</div>"
      ],
      "text/plain": [
       "                         visitId  sum_pdp_menswear_views  \\\n",
       "0  385538647184738199-1621198743                       0   \n",
       "1  385538647184738199-1621258351                       0   \n",
       "2  385538647184738199-1621343417                       0   \n",
       "3  385538647184738199-1621350882                       0   \n",
       "4  385538647184738199-1621376621                       0   \n",
       "5  385538647184738199-1621604755                       1   \n",
       "6  385538647184738199-1621610027                       2   \n",
       "7  385538647184738199-1621619807                       0   \n",
       "8  385538647184738199-1621705187                       0   \n",
       "9  385538647184738199-1621709109                       0   \n",
       "\n",
       "   sum_pdp_womenswear_views  sum_pdp_everythingelse_views country_from_ip  \n",
       "0                         1                             0              US  \n",
       "1                         1                             0              US  \n",
       "2                         2                             0              US  \n",
       "3                         0                             0              US  \n",
       "4                         1                             0              US  \n",
       "5                         0                             0              US  \n",
       "6                         2                             0              US  \n",
       "7                         1                             0              US  \n",
       "8                         0                             0              US  \n",
       "9                         0                             0              US  "
      ]
     },
     "execution_count": 31,
     "metadata": {},
     "output_type": "execute_result"
    }
   ],
   "source": [
    "Q1b = all_df[['visitId','sum_pdp_menswear_views','sum_pdp_womenswear_views','sum_pdp_everythingelse_views','country_from_ip']]\n",
    "Q1b.head(10)"
   ]
  },
  {
   "cell_type": "code",
   "execution_count": 32,
   "metadata": {},
   "outputs": [
    {
     "name": "stderr",
     "output_type": "stream",
     "text": [
      "C:\\Users\\kkwan\\AppData\\Local\\Temp/ipykernel_14744/1379198039.py:1: SettingWithCopyWarning: \n",
      "A value is trying to be set on a copy of a slice from a DataFrame.\n",
      "Try using .loc[row_indexer,col_indexer] = value instead\n",
      "\n",
      "See the caveats in the documentation: https://pandas.pydata.org/pandas-docs/stable/user_guide/indexing.html#returning-a-view-versus-a-copy\n",
      "  Q1b['session_men'] = Q1b.sum_pdp_menswear_views > 0\n",
      "C:\\Users\\kkwan\\AppData\\Local\\Temp/ipykernel_14744/1379198039.py:2: SettingWithCopyWarning: \n",
      "A value is trying to be set on a copy of a slice from a DataFrame.\n",
      "Try using .loc[row_indexer,col_indexer] = value instead\n",
      "\n",
      "See the caveats in the documentation: https://pandas.pydata.org/pandas-docs/stable/user_guide/indexing.html#returning-a-view-versus-a-copy\n",
      "  Q1b['session_women'] = Q1b.sum_pdp_womenswear_views > 0\n",
      "C:\\Users\\kkwan\\AppData\\Local\\Temp/ipykernel_14744/1379198039.py:3: SettingWithCopyWarning: \n",
      "A value is trying to be set on a copy of a slice from a DataFrame.\n",
      "Try using .loc[row_indexer,col_indexer] = value instead\n",
      "\n",
      "See the caveats in the documentation: https://pandas.pydata.org/pandas-docs/stable/user_guide/indexing.html#returning-a-view-versus-a-copy\n",
      "  Q1b['session_everything'] = Q1b.sum_pdp_everythingelse_views > 0\n"
     ]
    }
   ],
   "source": [
    "Q1b['session_men'] = Q1b.sum_pdp_menswear_views > 0\n",
    "Q1b['session_women'] = Q1b.sum_pdp_womenswear_views > 0\n",
    "Q1b['session_everything'] = Q1b.sum_pdp_everythingelse_views > 0"
   ]
  },
  {
   "cell_type": "code",
   "execution_count": 33,
   "metadata": {},
   "outputs": [
    {
     "data": {
      "text/html": [
       "<div>\n",
       "<style scoped>\n",
       "    .dataframe tbody tr th:only-of-type {\n",
       "        vertical-align: middle;\n",
       "    }\n",
       "\n",
       "    .dataframe tbody tr th {\n",
       "        vertical-align: top;\n",
       "    }\n",
       "\n",
       "    .dataframe thead th {\n",
       "        text-align: right;\n",
       "    }\n",
       "</style>\n",
       "<table border=\"1\" class=\"dataframe\">\n",
       "  <thead>\n",
       "    <tr style=\"text-align: right;\">\n",
       "      <th></th>\n",
       "      <th>visitId</th>\n",
       "      <th>sum_pdp_menswear_views</th>\n",
       "      <th>sum_pdp_womenswear_views</th>\n",
       "      <th>sum_pdp_everythingelse_views</th>\n",
       "      <th>country_from_ip</th>\n",
       "      <th>session_men</th>\n",
       "      <th>session_women</th>\n",
       "      <th>session_everything</th>\n",
       "    </tr>\n",
       "  </thead>\n",
       "  <tbody>\n",
       "    <tr>\n",
       "      <th>0</th>\n",
       "      <td>385538647184738199-1621198743</td>\n",
       "      <td>0</td>\n",
       "      <td>1</td>\n",
       "      <td>0</td>\n",
       "      <td>US</td>\n",
       "      <td>False</td>\n",
       "      <td>True</td>\n",
       "      <td>False</td>\n",
       "    </tr>\n",
       "  </tbody>\n",
       "</table>\n",
       "</div>"
      ],
      "text/plain": [
       "                         visitId  sum_pdp_menswear_views  \\\n",
       "0  385538647184738199-1621198743                       0   \n",
       "\n",
       "   sum_pdp_womenswear_views  sum_pdp_everythingelse_views country_from_ip  \\\n",
       "0                         1                             0              US   \n",
       "\n",
       "   session_men  session_women  session_everything  \n",
       "0        False           True               False  "
      ]
     },
     "execution_count": 33,
     "metadata": {},
     "output_type": "execute_result"
    }
   ],
   "source": [
    "Q1b.head(1)"
   ]
  },
  {
   "cell_type": "code",
   "execution_count": 34,
   "metadata": {},
   "outputs": [
    {
     "name": "stderr",
     "output_type": "stream",
     "text": [
      "C:\\Users\\kkwan\\AppData\\Local\\Temp/ipykernel_14744/1684952545.py:1: SettingWithCopyWarning: \n",
      "A value is trying to be set on a copy of a slice from a DataFrame.\n",
      "Try using .loc[row_indexer,col_indexer] = value instead\n",
      "\n",
      "See the caveats in the documentation: https://pandas.pydata.org/pandas-docs/stable/user_guide/indexing.html#returning-a-view-versus-a-copy\n",
      "  Q1b['session_men'] = Q1b['session_men'].astype(int)\n",
      "C:\\Users\\kkwan\\AppData\\Local\\Temp/ipykernel_14744/1684952545.py:2: SettingWithCopyWarning: \n",
      "A value is trying to be set on a copy of a slice from a DataFrame.\n",
      "Try using .loc[row_indexer,col_indexer] = value instead\n",
      "\n",
      "See the caveats in the documentation: https://pandas.pydata.org/pandas-docs/stable/user_guide/indexing.html#returning-a-view-versus-a-copy\n",
      "  Q1b['session_women'] = Q1b['session_women'].astype(int)\n",
      "C:\\Users\\kkwan\\AppData\\Local\\Temp/ipykernel_14744/1684952545.py:3: SettingWithCopyWarning: \n",
      "A value is trying to be set on a copy of a slice from a DataFrame.\n",
      "Try using .loc[row_indexer,col_indexer] = value instead\n",
      "\n",
      "See the caveats in the documentation: https://pandas.pydata.org/pandas-docs/stable/user_guide/indexing.html#returning-a-view-versus-a-copy\n",
      "  Q1b['session_everything'] = Q1b['session_everything'].astype(int)\n"
     ]
    }
   ],
   "source": [
    "Q1b['session_men'] = Q1b['session_men'].astype(int)\n",
    "Q1b['session_women'] = Q1b['session_women'].astype(int)\n",
    "Q1b['session_everything'] = Q1b['session_everything'].astype(int)"
   ]
  },
  {
   "cell_type": "code",
   "execution_count": 35,
   "metadata": {},
   "outputs": [
    {
     "data": {
      "text/html": [
       "<div>\n",
       "<style scoped>\n",
       "    .dataframe tbody tr th:only-of-type {\n",
       "        vertical-align: middle;\n",
       "    }\n",
       "\n",
       "    .dataframe tbody tr th {\n",
       "        vertical-align: top;\n",
       "    }\n",
       "\n",
       "    .dataframe thead th {\n",
       "        text-align: right;\n",
       "    }\n",
       "</style>\n",
       "<table border=\"1\" class=\"dataframe\">\n",
       "  <thead>\n",
       "    <tr style=\"text-align: right;\">\n",
       "      <th></th>\n",
       "      <th>visitId</th>\n",
       "      <th>sum_pdp_menswear_views</th>\n",
       "      <th>sum_pdp_womenswear_views</th>\n",
       "      <th>sum_pdp_everythingelse_views</th>\n",
       "      <th>country_from_ip</th>\n",
       "      <th>session_men</th>\n",
       "      <th>session_women</th>\n",
       "      <th>session_everything</th>\n",
       "    </tr>\n",
       "  </thead>\n",
       "  <tbody>\n",
       "    <tr>\n",
       "      <th>0</th>\n",
       "      <td>385538647184738199-1621198743</td>\n",
       "      <td>0</td>\n",
       "      <td>1</td>\n",
       "      <td>0</td>\n",
       "      <td>US</td>\n",
       "      <td>0</td>\n",
       "      <td>1</td>\n",
       "      <td>0</td>\n",
       "    </tr>\n",
       "  </tbody>\n",
       "</table>\n",
       "</div>"
      ],
      "text/plain": [
       "                         visitId  sum_pdp_menswear_views  \\\n",
       "0  385538647184738199-1621198743                       0   \n",
       "\n",
       "   sum_pdp_womenswear_views  sum_pdp_everythingelse_views country_from_ip  \\\n",
       "0                         1                             0              US   \n",
       "\n",
       "   session_men  session_women  session_everything  \n",
       "0            0              1                   0  "
      ]
     },
     "execution_count": 35,
     "metadata": {},
     "output_type": "execute_result"
    }
   ],
   "source": [
    "Q1b.head(1)"
   ]
  },
  {
   "cell_type": "code",
   "execution_count": 36,
   "metadata": {},
   "outputs": [
    {
     "name": "stderr",
     "output_type": "stream",
     "text": [
      "C:\\Users\\kkwan\\AppData\\Local\\Temp/ipykernel_14744/1195871597.py:1: SettingWithCopyWarning: \n",
      "A value is trying to be set on a copy of a slice from a DataFrame.\n",
      "Try using .loc[row_indexer,col_indexer] = value instead\n",
      "\n",
      "See the caveats in the documentation: https://pandas.pydata.org/pandas-docs/stable/user_guide/indexing.html#returning-a-view-versus-a-copy\n",
      "  Q1b['session_no'] = Q1b.session_men+Q1b.session_women+Q1b.session_everything\n"
     ]
    }
   ],
   "source": [
    "Q1b['session_no'] = Q1b.session_men+Q1b.session_women+Q1b.session_everything"
   ]
  },
  {
   "cell_type": "code",
   "execution_count": 37,
   "metadata": {},
   "outputs": [
    {
     "data": {
      "text/html": [
       "<div>\n",
       "<style scoped>\n",
       "    .dataframe tbody tr th:only-of-type {\n",
       "        vertical-align: middle;\n",
       "    }\n",
       "\n",
       "    .dataframe tbody tr th {\n",
       "        vertical-align: top;\n",
       "    }\n",
       "\n",
       "    .dataframe thead th {\n",
       "        text-align: right;\n",
       "    }\n",
       "</style>\n",
       "<table border=\"1\" class=\"dataframe\">\n",
       "  <thead>\n",
       "    <tr style=\"text-align: right;\">\n",
       "      <th></th>\n",
       "      <th>visitId</th>\n",
       "      <th>sum_pdp_menswear_views</th>\n",
       "      <th>sum_pdp_womenswear_views</th>\n",
       "      <th>sum_pdp_everythingelse_views</th>\n",
       "      <th>country_from_ip</th>\n",
       "      <th>session_men</th>\n",
       "      <th>session_women</th>\n",
       "      <th>session_everything</th>\n",
       "      <th>session_no</th>\n",
       "    </tr>\n",
       "  </thead>\n",
       "  <tbody>\n",
       "    <tr>\n",
       "      <th>0</th>\n",
       "      <td>385538647184738199-1621198743</td>\n",
       "      <td>0</td>\n",
       "      <td>1</td>\n",
       "      <td>0</td>\n",
       "      <td>US</td>\n",
       "      <td>0</td>\n",
       "      <td>1</td>\n",
       "      <td>0</td>\n",
       "      <td>1</td>\n",
       "    </tr>\n",
       "  </tbody>\n",
       "</table>\n",
       "</div>"
      ],
      "text/plain": [
       "                         visitId  sum_pdp_menswear_views  \\\n",
       "0  385538647184738199-1621198743                       0   \n",
       "\n",
       "   sum_pdp_womenswear_views  sum_pdp_everythingelse_views country_from_ip  \\\n",
       "0                         1                             0              US   \n",
       "\n",
       "   session_men  session_women  session_everything  session_no  \n",
       "0            0              1                   0           1  "
      ]
     },
     "execution_count": 37,
     "metadata": {},
     "output_type": "execute_result"
    }
   ],
   "source": [
    "Q1b.head(1)"
   ]
  },
  {
   "cell_type": "code",
   "execution_count": 38,
   "metadata": {},
   "outputs": [],
   "source": [
    "Q1b_1 = Q1b.groupby('country_from_ip').agg(\n",
    "            {'visitId':pd.Series.nunique,'session_no':np.sum})"
   ]
  },
  {
   "cell_type": "code",
   "execution_count": 39,
   "metadata": {},
   "outputs": [
    {
     "data": {
      "text/html": [
       "<div>\n",
       "<style scoped>\n",
       "    .dataframe tbody tr th:only-of-type {\n",
       "        vertical-align: middle;\n",
       "    }\n",
       "\n",
       "    .dataframe tbody tr th {\n",
       "        vertical-align: top;\n",
       "    }\n",
       "\n",
       "    .dataframe thead th {\n",
       "        text-align: right;\n",
       "    }\n",
       "</style>\n",
       "<table border=\"1\" class=\"dataframe\">\n",
       "  <thead>\n",
       "    <tr style=\"text-align: right;\">\n",
       "      <th></th>\n",
       "      <th>visitId</th>\n",
       "      <th>session_no</th>\n",
       "    </tr>\n",
       "    <tr>\n",
       "      <th>country_from_ip</th>\n",
       "      <th></th>\n",
       "      <th></th>\n",
       "    </tr>\n",
       "  </thead>\n",
       "  <tbody>\n",
       "    <tr>\n",
       "      <th>Canada</th>\n",
       "      <td>40544</td>\n",
       "      <td>93807</td>\n",
       "    </tr>\n",
       "    <tr>\n",
       "      <th>Others</th>\n",
       "      <td>37362</td>\n",
       "      <td>59339</td>\n",
       "    </tr>\n",
       "    <tr>\n",
       "      <th>US</th>\n",
       "      <td>62142</td>\n",
       "      <td>122809</td>\n",
       "    </tr>\n",
       "  </tbody>\n",
       "</table>\n",
       "</div>"
      ],
      "text/plain": [
       "                 visitId  session_no\n",
       "country_from_ip                     \n",
       "Canada             40544       93807\n",
       "Others             37362       59339\n",
       "US                 62142      122809"
      ]
     },
     "execution_count": 39,
     "metadata": {},
     "output_type": "execute_result"
    }
   ],
   "source": [
    "Q1b_1.head(3)"
   ]
  },
  {
   "cell_type": "code",
   "execution_count": 40,
   "metadata": {},
   "outputs": [
    {
     "data": {
      "text/plain": [
       "country_from_ip\n",
       "Canada    2.313709\n",
       "Others    1.588218\n",
       "US        1.976264\n",
       "dtype: float64"
      ]
     },
     "execution_count": 40,
     "metadata": {},
     "output_type": "execute_result"
    }
   ],
   "source": [
    "sessions_per_visitor = Q1b_1.session_no/Q1b_1.visitId\n",
    "sessions_per_visitor"
   ]
  },
  {
   "cell_type": "code",
   "execution_count": 41,
   "metadata": {},
   "outputs": [
    {
     "data": {
      "text/plain": [
       "<AxesSubplot:xlabel='country_from_ip'>"
      ]
     },
     "execution_count": 41,
     "metadata": {},
     "output_type": "execute_result"
    },
    {
     "data": {
      "image/png": "[encoded data removed]",
      "text/plain": [
       "<Figure size 432x288 with 1 Axes>"
      ]
     },
     "metadata": {
      "needs_background": "light"
     },
     "output_type": "display_data"
    }
   ],
   "source": [
    "sessions_per_visitor.plot.bar()\n"
   ]
  },
  {
   "cell_type": "markdown",
   "metadata": {},
   "source": [
    "1c) Average order value (AOV) in US, Canada and Others"
   ]
  },
  {
   "cell_type": "code",
   "execution_count": 42,
   "metadata": {},
   "outputs": [
    {
     "data": {
      "text/html": [
       "<div>\n",
       "<style scoped>\n",
       "    .dataframe tbody tr th:only-of-type {\n",
       "        vertical-align: middle;\n",
       "    }\n",
       "\n",
       "    .dataframe tbody tr th {\n",
       "        vertical-align: top;\n",
       "    }\n",
       "\n",
       "    .dataframe thead th {\n",
       "        text-align: right;\n",
       "    }\n",
       "</style>\n",
       "<table border=\"1\" class=\"dataframe\">\n",
       "  <thead>\n",
       "    <tr style=\"text-align: right;\">\n",
       "      <th></th>\n",
       "      <th>orderId_x</th>\n",
       "      <th>gross_revenue</th>\n",
       "      <th>country_from_ip</th>\n",
       "    </tr>\n",
       "  </thead>\n",
       "  <tbody>\n",
       "    <tr>\n",
       "      <th>0</th>\n",
       "      <td>1.152390e+12</td>\n",
       "      <td>1492.086505</td>\n",
       "      <td>US</td>\n",
       "    </tr>\n",
       "  </tbody>\n",
       "</table>\n",
       "</div>"
      ],
      "text/plain": [
       "      orderId_x  gross_revenue country_from_ip\n",
       "0  1.152390e+12    1492.086505              US"
      ]
     },
     "execution_count": 42,
     "metadata": {},
     "output_type": "execute_result"
    }
   ],
   "source": [
    "#average order value (AOV) = revenue / # of order\n",
    "Q1c = all_df[['orderId_x','gross_revenue','country_from_ip']]\n",
    "Q1c = Q1c.drop_duplicates()\n",
    "Q1c.head(1)"
   ]
  },
  {
   "cell_type": "code",
   "execution_count": 43,
   "metadata": {},
   "outputs": [
    {
     "data": {
      "text/html": [
       "<div>\n",
       "<style scoped>\n",
       "    .dataframe tbody tr th:only-of-type {\n",
       "        vertical-align: middle;\n",
       "    }\n",
       "\n",
       "    .dataframe tbody tr th {\n",
       "        vertical-align: top;\n",
       "    }\n",
       "\n",
       "    .dataframe thead th {\n",
       "        text-align: right;\n",
       "    }\n",
       "</style>\n",
       "<table border=\"1\" class=\"dataframe\">\n",
       "  <thead>\n",
       "    <tr style=\"text-align: right;\">\n",
       "      <th></th>\n",
       "      <th>orderId_x</th>\n",
       "      <th>gross_revenue</th>\n",
       "    </tr>\n",
       "    <tr>\n",
       "      <th>country_from_ip</th>\n",
       "      <th></th>\n",
       "      <th></th>\n",
       "    </tr>\n",
       "  </thead>\n",
       "  <tbody>\n",
       "    <tr>\n",
       "      <th>Canada</th>\n",
       "      <td>3226</td>\n",
       "      <td>1.314669e+06</td>\n",
       "    </tr>\n",
       "    <tr>\n",
       "      <th>Others</th>\n",
       "      <td>2724</td>\n",
       "      <td>1.307967e+06</td>\n",
       "    </tr>\n",
       "    <tr>\n",
       "      <th>US</th>\n",
       "      <td>4777</td>\n",
       "      <td>2.364466e+06</td>\n",
       "    </tr>\n",
       "  </tbody>\n",
       "</table>\n",
       "</div>"
      ],
      "text/plain": [
       "                 orderId_x  gross_revenue\n",
       "country_from_ip                          \n",
       "Canada                3226   1.314669e+06\n",
       "Others                2724   1.307967e+06\n",
       "US                    4777   2.364466e+06"
      ]
     },
     "execution_count": 43,
     "metadata": {},
     "output_type": "execute_result"
    }
   ],
   "source": [
    "AOV = Q1c.groupby('country_from_ip').agg(\n",
    "    {'orderId_x': pd.Series.nunique, 'gross_revenue':np.sum})\n",
    "AOV.head(3)"
   ]
  },
  {
   "cell_type": "code",
   "execution_count": 44,
   "metadata": {},
   "outputs": [
    {
     "data": {
      "text/plain": [
       "country_from_ip\n",
       "Canada    407.522948\n",
       "Others    480.164231\n",
       "US        494.968864\n",
       "dtype: float64"
      ]
     },
     "execution_count": 44,
     "metadata": {},
     "output_type": "execute_result"
    }
   ],
   "source": [
    "Q1c_1 = AOV.gross_revenue/AOV.orderId_x\n",
    "Q1c_1"
   ]
  },
  {
   "cell_type": "code",
   "execution_count": 45,
   "metadata": {},
   "outputs": [
    {
     "data": {
      "text/plain": [
       "<AxesSubplot:xlabel='country_from_ip'>"
      ]
     },
     "execution_count": 45,
     "metadata": {},
     "output_type": "execute_result"
    },
    {
     "data": {
      "image/png": "[encoded data removed]",
      "text/plain": [
       "<Figure size 432x288 with 1 Axes>"
      ]
     },
     "metadata": {
      "needs_background": "light"
     },
     "output_type": "display_data"
    }
   ],
   "source": [
    "Q1c_1.plot.bar()\n"
   ]
  },
  {
   "cell_type": "markdown",
   "metadata": {},
   "source": [
    "1d) Traffic in US, Canada and Others"
   ]
  },
  {
   "cell_type": "code",
   "execution_count": 46,
   "metadata": {},
   "outputs": [
    {
     "data": {
      "text/plain": [
       "country_from_ip\n",
       "Canada    134171\n",
       "Others     84557\n",
       "US        176530\n",
       "Name: visitId, dtype: int64"
      ]
     },
     "execution_count": 46,
     "metadata": {},
     "output_type": "execute_result"
    }
   ],
   "source": [
    "#traffic is the number of visit times between 1/1/2021 and 31/5/2021\n",
    "Q1d = all_df[['visitId','country_from_ip']]\n",
    "Q1d_1 = Q1d.groupby('country_from_ip').visitId.count()\n",
    "Q1d_1"
   ]
  },
  {
   "cell_type": "code",
   "execution_count": 47,
   "metadata": {},
   "outputs": [
    {
     "data": {
      "text/plain": [
       "<AxesSubplot:xlabel='country_from_ip'>"
      ]
     },
     "execution_count": 47,
     "metadata": {},
     "output_type": "execute_result"
    },
    {
     "data": {
      "image/png": "[encoded data removed]",
      "text/plain": [
       "<Figure size 432x288 with 1 Axes>"
      ]
     },
     "metadata": {
      "needs_background": "light"
     },
     "output_type": "display_data"
    }
   ],
   "source": [
    "Q1d_1.plot.bar()\n"
   ]
  },
  {
   "cell_type": "markdown",
   "metadata": {},
   "source": [
    "1e) visit per visitor in US, Canada and Others\n",
    "\n"
   ]
  },
  {
   "cell_type": "code",
   "execution_count": 48,
   "metadata": {},
   "outputs": [
    {
     "data": {
      "text/plain": [
       "887255505259355935-1612352811    128\n",
       "887255505259355935-1612339023    128\n",
       "887255505259355935-1614057310    128\n",
       "Name: visitId, dtype: int64"
      ]
     },
     "execution_count": 48,
     "metadata": {},
     "output_type": "execute_result"
    }
   ],
   "source": [
    "#visit per visitor\n",
    "Q1e = all_df[['visitId','country_from_ip']]\n",
    "Q1e_1 = Q1e['visitId'].value_counts()\n",
    "Q1e_1.head(3)"
   ]
  },
  {
   "cell_type": "code",
   "execution_count": 49,
   "metadata": {},
   "outputs": [
    {
     "data": {
      "text/html": [
       "<div>\n",
       "<style scoped>\n",
       "    .dataframe tbody tr th:only-of-type {\n",
       "        vertical-align: middle;\n",
       "    }\n",
       "\n",
       "    .dataframe tbody tr th {\n",
       "        vertical-align: top;\n",
       "    }\n",
       "\n",
       "    .dataframe thead th {\n",
       "        text-align: right;\n",
       "    }\n",
       "</style>\n",
       "<table border=\"1\" class=\"dataframe\">\n",
       "  <thead>\n",
       "    <tr style=\"text-align: right;\">\n",
       "      <th></th>\n",
       "      <th>time_of_visiting</th>\n",
       "    </tr>\n",
       "  </thead>\n",
       "  <tbody>\n",
       "    <tr>\n",
       "      <th>887255505259355935-1612352811</th>\n",
       "      <td>128</td>\n",
       "    </tr>\n",
       "    <tr>\n",
       "      <th>887255505259355935-1612339023</th>\n",
       "      <td>128</td>\n",
       "    </tr>\n",
       "    <tr>\n",
       "      <th>887255505259355935-1614057310</th>\n",
       "      <td>128</td>\n",
       "    </tr>\n",
       "  </tbody>\n",
       "</table>\n",
       "</div>"
      ],
      "text/plain": [
       "                               time_of_visiting\n",
       "887255505259355935-1612352811               128\n",
       "887255505259355935-1612339023               128\n",
       "887255505259355935-1614057310               128"
      ]
     },
     "execution_count": 49,
     "metadata": {},
     "output_type": "execute_result"
    }
   ],
   "source": [
    "Q1e_1 = Q1e_1.to_frame(name = 'time_of_visiting')\n",
    "Q1e_1.head(3)"
   ]
  },
  {
   "cell_type": "code",
   "execution_count": 50,
   "metadata": {},
   "outputs": [
    {
     "data": {
      "text/html": [
       "<div>\n",
       "<style scoped>\n",
       "    .dataframe tbody tr th:only-of-type {\n",
       "        vertical-align: middle;\n",
       "    }\n",
       "\n",
       "    .dataframe tbody tr th {\n",
       "        vertical-align: top;\n",
       "    }\n",
       "\n",
       "    .dataframe thead th {\n",
       "        text-align: right;\n",
       "    }\n",
       "</style>\n",
       "<table border=\"1\" class=\"dataframe\">\n",
       "  <thead>\n",
       "    <tr style=\"text-align: right;\">\n",
       "      <th></th>\n",
       "      <th>index</th>\n",
       "      <th>time_of_visiting</th>\n",
       "    </tr>\n",
       "  </thead>\n",
       "  <tbody>\n",
       "    <tr>\n",
       "      <th>0</th>\n",
       "      <td>887255505259355935-1612352811</td>\n",
       "      <td>128</td>\n",
       "    </tr>\n",
       "    <tr>\n",
       "      <th>1</th>\n",
       "      <td>887255505259355935-1612339023</td>\n",
       "      <td>128</td>\n",
       "    </tr>\n",
       "    <tr>\n",
       "      <th>2</th>\n",
       "      <td>887255505259355935-1614057310</td>\n",
       "      <td>128</td>\n",
       "    </tr>\n",
       "  </tbody>\n",
       "</table>\n",
       "</div>"
      ],
      "text/plain": [
       "                           index  time_of_visiting\n",
       "0  887255505259355935-1612352811               128\n",
       "1  887255505259355935-1612339023               128\n",
       "2  887255505259355935-1614057310               128"
      ]
     },
     "execution_count": 50,
     "metadata": {},
     "output_type": "execute_result"
    }
   ],
   "source": [
    "Q1e_1 = Q1e_1.reset_index()\n",
    "Q1e_1.head(3)"
   ]
  },
  {
   "cell_type": "code",
   "execution_count": 51,
   "metadata": {},
   "outputs": [
    {
     "data": {
      "text/html": [
       "<div>\n",
       "<style scoped>\n",
       "    .dataframe tbody tr th:only-of-type {\n",
       "        vertical-align: middle;\n",
       "    }\n",
       "\n",
       "    .dataframe tbody tr th {\n",
       "        vertical-align: top;\n",
       "    }\n",
       "\n",
       "    .dataframe thead th {\n",
       "        text-align: right;\n",
       "    }\n",
       "</style>\n",
       "<table border=\"1\" class=\"dataframe\">\n",
       "  <thead>\n",
       "    <tr style=\"text-align: right;\">\n",
       "      <th></th>\n",
       "      <th>visitId</th>\n",
       "      <th>time_of_visiting</th>\n",
       "      <th>country_from_ip</th>\n",
       "    </tr>\n",
       "  </thead>\n",
       "  <tbody>\n",
       "    <tr>\n",
       "      <th>0</th>\n",
       "      <td>887255505259355935-1612352811</td>\n",
       "      <td>128</td>\n",
       "      <td>Others</td>\n",
       "    </tr>\n",
       "    <tr>\n",
       "      <th>1</th>\n",
       "      <td>887255505259355935-1612352811</td>\n",
       "      <td>128</td>\n",
       "      <td>Others</td>\n",
       "    </tr>\n",
       "    <tr>\n",
       "      <th>2</th>\n",
       "      <td>887255505259355935-1612352811</td>\n",
       "      <td>128</td>\n",
       "      <td>Others</td>\n",
       "    </tr>\n",
       "  </tbody>\n",
       "</table>\n",
       "</div>"
      ],
      "text/plain": [
       "                         visitId  time_of_visiting country_from_ip\n",
       "0  887255505259355935-1612352811               128          Others\n",
       "1  887255505259355935-1612352811               128          Others\n",
       "2  887255505259355935-1612352811               128          Others"
      ]
     },
     "execution_count": 51,
     "metadata": {},
     "output_type": "execute_result"
    }
   ],
   "source": [
    "Q1e_1 = Q1e_1.rename(columns={'index': 'visitId'})\n",
    "Q1e_2 = pd.merge(Q1e_1,Q1e,how='left', on = 'visitId')\n",
    "Q1e_2.head(3)"
   ]
  },
  {
   "cell_type": "code",
   "execution_count": 52,
   "metadata": {},
   "outputs": [
    {
     "data": {
      "text/html": [
       "<div>\n",
       "<style scoped>\n",
       "    .dataframe tbody tr th:only-of-type {\n",
       "        vertical-align: middle;\n",
       "    }\n",
       "\n",
       "    .dataframe tbody tr th {\n",
       "        vertical-align: top;\n",
       "    }\n",
       "\n",
       "    .dataframe thead th {\n",
       "        text-align: right;\n",
       "    }\n",
       "</style>\n",
       "<table border=\"1\" class=\"dataframe\">\n",
       "  <thead>\n",
       "    <tr style=\"text-align: right;\">\n",
       "      <th></th>\n",
       "      <th>time_of_visiting</th>\n",
       "      <th>visitId</th>\n",
       "    </tr>\n",
       "    <tr>\n",
       "      <th>country_from_ip</th>\n",
       "      <th></th>\n",
       "      <th></th>\n",
       "    </tr>\n",
       "  </thead>\n",
       "  <tbody>\n",
       "    <tr>\n",
       "      <th>Canada</th>\n",
       "      <td>947207</td>\n",
       "      <td>134171</td>\n",
       "    </tr>\n",
       "    <tr>\n",
       "      <th>Others</th>\n",
       "      <td>996379</td>\n",
       "      <td>84557</td>\n",
       "    </tr>\n",
       "    <tr>\n",
       "      <th>US</th>\n",
       "      <td>1119734</td>\n",
       "      <td>176530</td>\n",
       "    </tr>\n",
       "  </tbody>\n",
       "</table>\n",
       "</div>"
      ],
      "text/plain": [
       "                 time_of_visiting  visitId\n",
       "country_from_ip                           \n",
       "Canada                     947207   134171\n",
       "Others                     996379    84557\n",
       "US                        1119734   176530"
      ]
     },
     "execution_count": 52,
     "metadata": {},
     "output_type": "execute_result"
    }
   ],
   "source": [
    "Q1e_3 = Q1e_2.groupby('country_from_ip').agg(\n",
    "    {'time_of_visiting': np.sum, 'visitId': pd.Series.count\n",
    "    }\n",
    ")\n",
    "Q1e_3.head(3)"
   ]
  },
  {
   "cell_type": "code",
   "execution_count": 53,
   "metadata": {},
   "outputs": [
    {
     "data": {
      "text/plain": [
       "country_from_ip\n",
       "Canada     7.059700\n",
       "Others    11.783519\n",
       "US         6.343024\n",
       "dtype: float64"
      ]
     },
     "execution_count": 53,
     "metadata": {},
     "output_type": "execute_result"
    }
   ],
   "source": [
    "visit_per_visitor = Q1e_3.time_of_visiting/Q1e_3.visitId\n",
    "visit_per_visitor"
   ]
  },
  {
   "cell_type": "code",
   "execution_count": 54,
   "metadata": {},
   "outputs": [
    {
     "data": {
      "text/plain": [
       "<AxesSubplot:xlabel='country_from_ip'>"
      ]
     },
     "execution_count": 54,
     "metadata": {},
     "output_type": "execute_result"
    },
    {
     "data": {
      "image/png": "[encoded data removed]",
      "text/plain": [
       "<Figure size 432x288 with 1 Axes>"
      ]
     },
     "metadata": {
      "needs_background": "light"
     },
     "output_type": "display_data"
    }
   ],
   "source": [
    "visit_per_visitor.plot.bar()\n"
   ]
  },
  {
   "cell_type": "markdown",
   "metadata": {},
   "source": [
    "1f(i) Add to cart rate in US, Canada and Others\n",
    "\n"
   ]
  },
  {
   "cell_type": "code",
   "execution_count": 55,
   "metadata": {},
   "outputs": [
    {
     "name": "stderr",
     "output_type": "stream",
     "text": [
      "C:\\Users\\kkwan\\AppData\\Local\\Temp/ipykernel_14744/976429895.py:3: SettingWithCopyWarning: \n",
      "A value is trying to be set on a copy of a slice from a DataFrame.\n",
      "Try using .loc[row_indexer,col_indexer] = value instead\n",
      "\n",
      "See the caveats in the documentation: https://pandas.pydata.org/pandas-docs/stable/user_guide/indexing.html#returning-a-view-versus-a-copy\n",
      "  Q1f['addtocart_times'] = Q1f.sum_addtocart_menswear+Q1f.sum_addtocart_womenswear+Q1f.sum_addtocart_everythingelse\n",
      "C:\\Users\\kkwan\\AppData\\Local\\Temp/ipykernel_14744/976429895.py:4: SettingWithCopyWarning: \n",
      "A value is trying to be set on a copy of a slice from a DataFrame.\n",
      "Try using .loc[row_indexer,col_indexer] = value instead\n",
      "\n",
      "See the caveats in the documentation: https://pandas.pydata.org/pandas-docs/stable/user_guide/indexing.html#returning-a-view-versus-a-copy\n",
      "  Q1f['add_to_cart_morethan1'] = Q1f.addtocart_times > 0\n",
      "C:\\Users\\kkwan\\AppData\\Local\\Temp/ipykernel_14744/976429895.py:5: SettingWithCopyWarning: \n",
      "A value is trying to be set on a copy of a slice from a DataFrame.\n",
      "Try using .loc[row_indexer,col_indexer] = value instead\n",
      "\n",
      "See the caveats in the documentation: https://pandas.pydata.org/pandas-docs/stable/user_guide/indexing.html#returning-a-view-versus-a-copy\n",
      "  Q1f['add_to_cart_morethan1'] = Q1f['add_to_cart_morethan1'].astype(int)\n"
     ]
    },
    {
     "data": {
      "text/plain": [
       "country_from_ip\n",
       "Canada    15.674028\n",
       "Others    17.330322\n",
       "US        15.822240\n",
       "dtype: float64"
      ]
     },
     "execution_count": 55,
     "metadata": {},
     "output_type": "execute_result"
    }
   ],
   "source": [
    "#Add to cart rate by countries\n",
    "Q1f = all_df[['memberId','country_from_ip','newsletter_gender_communication_preference','sum_addtocart_menswear','sum_addtocart_womenswear','sum_addtocart_everythingelse']]\n",
    "Q1f['addtocart_times'] = Q1f.sum_addtocart_menswear+Q1f.sum_addtocart_womenswear+Q1f.sum_addtocart_everythingelse\n",
    "Q1f['add_to_cart_morethan1'] = Q1f.addtocart_times > 0\n",
    "Q1f['add_to_cart_morethan1'] = Q1f['add_to_cart_morethan1'].astype(int)\n",
    "Q1f_1 = Q1f.groupby('country_from_ip').agg(\n",
    "    {'add_to_cart_morethan1':np.sum ,'memberId':pd.Series.count }\n",
    ")\n",
    "ATC_rate_country = Q1f_1.add_to_cart_morethan1/Q1f_1.memberId*100\n",
    "ATC_rate_country"
   ]
  },
  {
   "cell_type": "code",
   "execution_count": 56,
   "metadata": {},
   "outputs": [
    {
     "data": {
      "text/plain": [
       "<AxesSubplot:xlabel='country_from_ip'>"
      ]
     },
     "execution_count": 56,
     "metadata": {},
     "output_type": "execute_result"
    },
    {
     "data": {
      "image/png": "[encoded data removed]",
      "text/plain": [
       "<Figure size 432x288 with 1 Axes>"
      ]
     },
     "metadata": {
      "needs_background": "light"
     },
     "output_type": "display_data"
    }
   ],
   "source": [
    "ATC_rate_country.plot.bar()\n"
   ]
  },
  {
   "cell_type": "markdown",
   "metadata": {},
   "source": [
    "1f(ii) Add to cart rate in predict genders\n",
    "\n"
   ]
  },
  {
   "cell_type": "code",
   "execution_count": 57,
   "metadata": {},
   "outputs": [
    {
     "data": {
      "text/plain": [
       "newsletter_gender_communication_preference\n",
       "Menswear      16.090604\n",
       "Womenswear    16.096896\n",
       "dtype: float64"
      ]
     },
     "execution_count": 57,
     "metadata": {},
     "output_type": "execute_result"
    }
   ],
   "source": [
    "#Add to cart rate by gender\n",
    "Q1f_2 = Q1f.groupby('newsletter_gender_communication_preference').agg(\n",
    "    {'add_to_cart_morethan1':np.sum ,'memberId':pd.Series.count }\n",
    ")\n",
    "ATC_rate_gender = Q1f_2.add_to_cart_morethan1/Q1f_2.memberId*100\n",
    "ATC_rate_gender"
   ]
  },
  {
   "cell_type": "code",
   "execution_count": 58,
   "metadata": {},
   "outputs": [
    {
     "name": "stdout",
     "output_type": "stream",
     "text": [
      "<class 'pandas.core.frame.DataFrame'>\n",
      "Int64Index: 395258 entries, 0 to 395257\n",
      "Data columns (total 25 columns):\n",
      " #   Column                                      Non-Null Count   Dtype         \n",
      "---  ------                                      --------------   -----         \n",
      " 0   date_x                                      361972 non-null  datetime64[ns]\n",
      " 1   orderId_x                                   361972 non-null  float64       \n",
      " 2   memberId                                    395258 non-null  int64         \n",
      " 3   is_discounted_order                         361972 non-null  float64       \n",
      " 4   gross_revenue                               361972 non-null  float64       \n",
      " 5   gross_revenue_before_discount               361857 non-null  float64       \n",
      " 6   sum_units_sold                              361972 non-null  float64       \n",
      " 7   sum_units_returned                          361972 non-null  float64       \n",
      " 8   visitId                                     395258 non-null  object        \n",
      " 9   fullVisitorId                               395258 non-null  float64       \n",
      " 10  date_y                                      395258 non-null  datetime64[ns]\n",
      " 11  is_newsletter_subscriber                    395258 non-null  object        \n",
      " 12  newsletter_gender_communication_preference  395258 non-null  object        \n",
      " 13  country_from_ip                             395258 non-null  object        \n",
      " 14  platform                                    395258 non-null  object        \n",
      " 15  traffic_channel                             395258 non-null  object        \n",
      " 16  language_visit                              395258 non-null  object        \n",
      " 17  orderId_y                                   19071 non-null   float64       \n",
      " 18  sum_pdp_menswear_views                      395258 non-null  int64         \n",
      " 19  sum_pdp_womenswear_views                    395258 non-null  int64         \n",
      " 20  sum_pdp_everythingelse_views                395258 non-null  int64         \n",
      " 21  sum_addtocart_menswear                      395258 non-null  int64         \n",
      " 22  sum_addtocart_womenswear                    395258 non-null  int64         \n",
      " 23  sum_addtocart_everythingelse                395258 non-null  int64         \n",
      " 24  sum_addtowishlist                           395258 non-null  int64         \n",
      "dtypes: datetime64[ns](2), float64(8), int64(8), object(7)\n",
      "memory usage: 78.4+ MB\n"
     ]
    }
   ],
   "source": [
    "all_df.info()\n"
   ]
  },
  {
   "cell_type": "markdown",
   "metadata": {},
   "source": [
    "RFM Analysis\n",
    "Recency Frequency Monetary (RFM)\n",
    "\n",
    "RFM analysis allows you to segment customers by the frequency and value of purchases and identify those customers who spend the most money.\n",
    "\n",
    "Recency — how long it’s been since a customer bought something from us.\n",
    "\n",
    "Frequency — how often a customer buys from us.\n",
    "\n",
    "Monetary value — the total value of purchases a customer has made."
   ]
  },
  {
   "cell_type": "code",
   "execution_count": 59,
   "metadata": {},
   "outputs": [],
   "source": [
    "import datetime as dt"
   ]
  },
  {
   "cell_type": "code",
   "execution_count": 60,
   "metadata": {},
   "outputs": [
    {
     "data": {
      "text/html": [
       "<div>\n",
       "<style scoped>\n",
       "    .dataframe tbody tr th:only-of-type {\n",
       "        vertical-align: middle;\n",
       "    }\n",
       "\n",
       "    .dataframe tbody tr th {\n",
       "        vertical-align: top;\n",
       "    }\n",
       "\n",
       "    .dataframe thead th {\n",
       "        text-align: right;\n",
       "    }\n",
       "</style>\n",
       "<table border=\"1\" class=\"dataframe\">\n",
       "  <thead>\n",
       "    <tr style=\"text-align: right;\">\n",
       "      <th></th>\n",
       "      <th>date</th>\n",
       "      <th>orderId</th>\n",
       "      <th>memberId</th>\n",
       "      <th>is_discounted_order</th>\n",
       "      <th>gross_revenue</th>\n",
       "      <th>gross_revenue_before_discount</th>\n",
       "      <th>sum_units_sold</th>\n",
       "      <th>sum_units_returned</th>\n",
       "    </tr>\n",
       "  </thead>\n",
       "  <tbody>\n",
       "    <tr>\n",
       "      <th>0</th>\n",
       "      <td>2021-05-18</td>\n",
       "      <td>1152389539624</td>\n",
       "      <td>20792069</td>\n",
       "      <td>0</td>\n",
       "      <td>1492.086505</td>\n",
       "      <td>1492.086505</td>\n",
       "      <td>13</td>\n",
       "      <td>0</td>\n",
       "    </tr>\n",
       "    <tr>\n",
       "      <th>1</th>\n",
       "      <td>2021-01-15</td>\n",
       "      <td>1073058496294</td>\n",
       "      <td>25109761</td>\n",
       "      <td>0</td>\n",
       "      <td>1100.847779</td>\n",
       "      <td>1100.847779</td>\n",
       "      <td>9</td>\n",
       "      <td>0</td>\n",
       "    </tr>\n",
       "    <tr>\n",
       "      <th>4</th>\n",
       "      <td>2021-02-15</td>\n",
       "      <td>1103154584224</td>\n",
       "      <td>39704321</td>\n",
       "      <td>0</td>\n",
       "      <td>849.546206</td>\n",
       "      <td>849.546206</td>\n",
       "      <td>10</td>\n",
       "      <td>0</td>\n",
       "    </tr>\n",
       "    <tr>\n",
       "      <th>5</th>\n",
       "      <td>2021-05-14</td>\n",
       "      <td>1145902598644</td>\n",
       "      <td>19575299</td>\n",
       "      <td>0</td>\n",
       "      <td>601.335908</td>\n",
       "      <td>601.335908</td>\n",
       "      <td>11</td>\n",
       "      <td>0</td>\n",
       "    </tr>\n",
       "    <tr>\n",
       "      <th>6</th>\n",
       "      <td>2021-05-22</td>\n",
       "      <td>1157467264384</td>\n",
       "      <td>8225282</td>\n",
       "      <td>0</td>\n",
       "      <td>1222.306723</td>\n",
       "      <td>1222.306723</td>\n",
       "      <td>9</td>\n",
       "      <td>0</td>\n",
       "    </tr>\n",
       "  </tbody>\n",
       "</table>\n",
       "</div>"
      ],
      "text/plain": [
       "        date        orderId  memberId  is_discounted_order  gross_revenue  \\\n",
       "0 2021-05-18  1152389539624  20792069                    0    1492.086505   \n",
       "1 2021-01-15  1073058496294  25109761                    0    1100.847779   \n",
       "4 2021-02-15  1103154584224  39704321                    0     849.546206   \n",
       "5 2021-05-14  1145902598644  19575299                    0     601.335908   \n",
       "6 2021-05-22  1157467264384   8225282                    0    1222.306723   \n",
       "\n",
       "   gross_revenue_before_discount  sum_units_sold  sum_units_returned  \n",
       "0                    1492.086505              13                   0  \n",
       "1                    1100.847779               9                   0  \n",
       "4                     849.546206              10                   0  \n",
       "5                     601.335908              11                   0  \n",
       "6                    1222.306723               9                   0  "
      ]
     },
     "execution_count": 60,
     "metadata": {},
     "output_type": "execute_result"
    }
   ],
   "source": [
    "trans_2021.head()\n"
   ]
  },
  {
   "cell_type": "code",
   "execution_count": 61,
   "metadata": {},
   "outputs": [
    {
     "name": "stderr",
     "output_type": "stream",
     "text": [
      "C:\\Users\\kkwan\\AppData\\Local\\Temp/ipykernel_14744/2052384833.py:2: SettingWithCopyWarning: \n",
      "A value is trying to be set on a copy of a slice from a DataFrame.\n",
      "Try using .loc[row_indexer,col_indexer] = value instead\n",
      "\n",
      "See the caveats in the documentation: https://pandas.pydata.org/pandas-docs/stable/user_guide/indexing.html#returning-a-view-versus-a-copy\n",
      "  trans_2021['date'] = pd.DatetimeIndex(trans_2021.date).date\n"
     ]
    }
   ],
   "source": [
    "NOW = dt.date(2021,5,31) \n",
    "trans_2021['date'] = pd.DatetimeIndex(trans_2021.date).date"
   ]
  },
  {
   "cell_type": "code",
   "execution_count": 62,
   "metadata": {},
   "outputs": [
    {
     "data": {
      "text/html": [
       "<div>\n",
       "<style scoped>\n",
       "    .dataframe tbody tr th:only-of-type {\n",
       "        vertical-align: middle;\n",
       "    }\n",
       "\n",
       "    .dataframe tbody tr th {\n",
       "        vertical-align: top;\n",
       "    }\n",
       "\n",
       "    .dataframe thead th {\n",
       "        text-align: right;\n",
       "    }\n",
       "</style>\n",
       "<table border=\"1\" class=\"dataframe\">\n",
       "  <thead>\n",
       "    <tr style=\"text-align: right;\">\n",
       "      <th></th>\n",
       "      <th>memberId</th>\n",
       "      <th>Last_Purchase_Date</th>\n",
       "    </tr>\n",
       "  </thead>\n",
       "  <tbody>\n",
       "    <tr>\n",
       "      <th>0</th>\n",
       "      <td>6661</td>\n",
       "      <td>2021-05-16</td>\n",
       "    </tr>\n",
       "    <tr>\n",
       "      <th>1</th>\n",
       "      <td>7428</td>\n",
       "      <td>2021-04-10</td>\n",
       "    </tr>\n",
       "    <tr>\n",
       "      <th>2</th>\n",
       "      <td>11777</td>\n",
       "      <td>2021-05-17</td>\n",
       "    </tr>\n",
       "    <tr>\n",
       "      <th>3</th>\n",
       "      <td>17408</td>\n",
       "      <td>2021-04-25</td>\n",
       "    </tr>\n",
       "    <tr>\n",
       "      <th>4</th>\n",
       "      <td>17411</td>\n",
       "      <td>2021-02-10</td>\n",
       "    </tr>\n",
       "  </tbody>\n",
       "</table>\n",
       "</div>"
      ],
      "text/plain": [
       "   memberId Last_Purchase_Date\n",
       "0      6661         2021-05-16\n",
       "1      7428         2021-04-10\n",
       "2     11777         2021-05-17\n",
       "3     17408         2021-04-25\n",
       "4     17411         2021-02-10"
      ]
     },
     "execution_count": 62,
     "metadata": {},
     "output_type": "execute_result"
    }
   ],
   "source": [
    "#Recency\n",
    "\n",
    "df_recency = trans_2021.groupby(['memberId'],as_index=False)['date'].max()\n",
    "df_recency.columns = ['memberId','Last_Purchase_Date']\n",
    "df_recency.head()\n"
   ]
  },
  {
   "cell_type": "code",
   "execution_count": 63,
   "metadata": {},
   "outputs": [
    {
     "data": {
      "text/html": [
       "<div>\n",
       "<style scoped>\n",
       "    .dataframe tbody tr th:only-of-type {\n",
       "        vertical-align: middle;\n",
       "    }\n",
       "\n",
       "    .dataframe tbody tr th {\n",
       "        vertical-align: top;\n",
       "    }\n",
       "\n",
       "    .dataframe thead th {\n",
       "        text-align: right;\n",
       "    }\n",
       "</style>\n",
       "<table border=\"1\" class=\"dataframe\">\n",
       "  <thead>\n",
       "    <tr style=\"text-align: right;\">\n",
       "      <th></th>\n",
       "      <th>memberId</th>\n",
       "      <th>Last_Purchase_Date</th>\n",
       "      <th>Recency</th>\n",
       "    </tr>\n",
       "  </thead>\n",
       "  <tbody>\n",
       "    <tr>\n",
       "      <th>0</th>\n",
       "      <td>6661</td>\n",
       "      <td>2021-05-16</td>\n",
       "      <td>15</td>\n",
       "    </tr>\n",
       "    <tr>\n",
       "      <th>1</th>\n",
       "      <td>7428</td>\n",
       "      <td>2021-04-10</td>\n",
       "      <td>51</td>\n",
       "    </tr>\n",
       "    <tr>\n",
       "      <th>2</th>\n",
       "      <td>11777</td>\n",
       "      <td>2021-05-17</td>\n",
       "      <td>14</td>\n",
       "    </tr>\n",
       "    <tr>\n",
       "      <th>3</th>\n",
       "      <td>17408</td>\n",
       "      <td>2021-04-25</td>\n",
       "      <td>36</td>\n",
       "    </tr>\n",
       "    <tr>\n",
       "      <th>4</th>\n",
       "      <td>17411</td>\n",
       "      <td>2021-02-10</td>\n",
       "      <td>110</td>\n",
       "    </tr>\n",
       "  </tbody>\n",
       "</table>\n",
       "</div>"
      ],
      "text/plain": [
       "   memberId Last_Purchase_Date  Recency\n",
       "0      6661         2021-05-16       15\n",
       "1      7428         2021-04-10       51\n",
       "2     11777         2021-05-17       14\n",
       "3     17408         2021-04-25       36\n",
       "4     17411         2021-02-10      110"
      ]
     },
     "execution_count": 63,
     "metadata": {},
     "output_type": "execute_result"
    }
   ],
   "source": [
    "df_recency['Recency'] = df_recency.Last_Purchase_Date.apply(lambda x:(NOW - x).days)\n",
    "#df_recency.drop(columns=['Last_Purchase_Date'],inplace=True)\n",
    "df_recency.head()"
   ]
  },
  {
   "cell_type": "code",
   "execution_count": 64,
   "metadata": {},
   "outputs": [
    {
     "data": {
      "text/html": [
       "<div>\n",
       "<style scoped>\n",
       "    .dataframe tbody tr th:only-of-type {\n",
       "        vertical-align: middle;\n",
       "    }\n",
       "\n",
       "    .dataframe tbody tr th {\n",
       "        vertical-align: top;\n",
       "    }\n",
       "\n",
       "    .dataframe thead th {\n",
       "        text-align: right;\n",
       "    }\n",
       "</style>\n",
       "<table border=\"1\" class=\"dataframe\">\n",
       "  <thead>\n",
       "    <tr style=\"text-align: right;\">\n",
       "      <th></th>\n",
       "      <th>orderId</th>\n",
       "      <th>gross_revenue</th>\n",
       "    </tr>\n",
       "    <tr>\n",
       "      <th>memberId</th>\n",
       "      <th></th>\n",
       "      <th></th>\n",
       "    </tr>\n",
       "  </thead>\n",
       "  <tbody>\n",
       "    <tr>\n",
       "      <th>6661</th>\n",
       "      <td>4</td>\n",
       "      <td>996.330562</td>\n",
       "    </tr>\n",
       "    <tr>\n",
       "      <th>7428</th>\n",
       "      <td>1</td>\n",
       "      <td>560.000000</td>\n",
       "    </tr>\n",
       "    <tr>\n",
       "      <th>11777</th>\n",
       "      <td>5</td>\n",
       "      <td>2017.000000</td>\n",
       "    </tr>\n",
       "    <tr>\n",
       "      <th>17408</th>\n",
       "      <td>2</td>\n",
       "      <td>1460.000000</td>\n",
       "    </tr>\n",
       "    <tr>\n",
       "      <th>17411</th>\n",
       "      <td>3</td>\n",
       "      <td>2593.995171</td>\n",
       "    </tr>\n",
       "  </tbody>\n",
       "</table>\n",
       "</div>"
      ],
      "text/plain": [
       "          orderId  gross_revenue\n",
       "memberId                        \n",
       "6661            4     996.330562\n",
       "7428            1     560.000000\n",
       "11777           5    2017.000000\n",
       "17408           2    1460.000000\n",
       "17411           3    2593.995171"
      ]
     },
     "execution_count": 64,
     "metadata": {},
     "output_type": "execute_result"
    }
   ],
   "source": [
    "#Frequency - Monetarty\n",
    "\n",
    "FM_Table = trans_2021.groupby('memberId').agg({'orderId'   : pd.Series.count,\n",
    "                                         'gross_revenue'  : np.sum })\n",
    "FM_Table.head()"
   ]
  },
  {
   "cell_type": "code",
   "execution_count": 65,
   "metadata": {},
   "outputs": [
    {
     "data": {
      "text/html": [
       "<div>\n",
       "<style scoped>\n",
       "    .dataframe tbody tr th:only-of-type {\n",
       "        vertical-align: middle;\n",
       "    }\n",
       "\n",
       "    .dataframe tbody tr th {\n",
       "        vertical-align: top;\n",
       "    }\n",
       "\n",
       "    .dataframe thead th {\n",
       "        text-align: right;\n",
       "    }\n",
       "</style>\n",
       "<table border=\"1\" class=\"dataframe\">\n",
       "  <thead>\n",
       "    <tr style=\"text-align: right;\">\n",
       "      <th></th>\n",
       "      <th>Frequency</th>\n",
       "      <th>Monetary</th>\n",
       "    </tr>\n",
       "    <tr>\n",
       "      <th>memberId</th>\n",
       "      <th></th>\n",
       "      <th></th>\n",
       "    </tr>\n",
       "  </thead>\n",
       "  <tbody>\n",
       "    <tr>\n",
       "      <th>6661</th>\n",
       "      <td>4</td>\n",
       "      <td>996.330562</td>\n",
       "    </tr>\n",
       "    <tr>\n",
       "      <th>7428</th>\n",
       "      <td>1</td>\n",
       "      <td>560.000000</td>\n",
       "    </tr>\n",
       "    <tr>\n",
       "      <th>11777</th>\n",
       "      <td>5</td>\n",
       "      <td>2017.000000</td>\n",
       "    </tr>\n",
       "    <tr>\n",
       "      <th>17408</th>\n",
       "      <td>2</td>\n",
       "      <td>1460.000000</td>\n",
       "    </tr>\n",
       "    <tr>\n",
       "      <th>17411</th>\n",
       "      <td>3</td>\n",
       "      <td>2593.995171</td>\n",
       "    </tr>\n",
       "  </tbody>\n",
       "</table>\n",
       "</div>"
      ],
      "text/plain": [
       "          Frequency     Monetary\n",
       "memberId                        \n",
       "6661              4   996.330562\n",
       "7428              1   560.000000\n",
       "11777             5  2017.000000\n",
       "17408             2  1460.000000\n",
       "17411             3  2593.995171"
      ]
     },
     "execution_count": 65,
     "metadata": {},
     "output_type": "execute_result"
    }
   ],
   "source": [
    "FM_Table.rename(columns = {'orderId' :'Frequency',\n",
    "                           'gross_revenue':'Monetary'},inplace= True)\n",
    "FM_Table.head()"
   ]
  },
  {
   "cell_type": "code",
   "execution_count": 66,
   "metadata": {},
   "outputs": [
    {
     "data": {
      "text/html": [
       "<div>\n",
       "<style scoped>\n",
       "    .dataframe tbody tr th:only-of-type {\n",
       "        vertical-align: middle;\n",
       "    }\n",
       "\n",
       "    .dataframe tbody tr th {\n",
       "        vertical-align: top;\n",
       "    }\n",
       "\n",
       "    .dataframe thead th {\n",
       "        text-align: right;\n",
       "    }\n",
       "</style>\n",
       "<table border=\"1\" class=\"dataframe\">\n",
       "  <thead>\n",
       "    <tr style=\"text-align: right;\">\n",
       "      <th></th>\n",
       "      <th>memberId</th>\n",
       "      <th>Recency</th>\n",
       "      <th>Frequency</th>\n",
       "      <th>Monetary</th>\n",
       "    </tr>\n",
       "  </thead>\n",
       "  <tbody>\n",
       "    <tr>\n",
       "      <th>0</th>\n",
       "      <td>6661</td>\n",
       "      <td>15</td>\n",
       "      <td>4</td>\n",
       "      <td>996.330562</td>\n",
       "    </tr>\n",
       "    <tr>\n",
       "      <th>1</th>\n",
       "      <td>7428</td>\n",
       "      <td>51</td>\n",
       "      <td>1</td>\n",
       "      <td>560.000000</td>\n",
       "    </tr>\n",
       "    <tr>\n",
       "      <th>2</th>\n",
       "      <td>11777</td>\n",
       "      <td>14</td>\n",
       "      <td>5</td>\n",
       "      <td>2017.000000</td>\n",
       "    </tr>\n",
       "    <tr>\n",
       "      <th>3</th>\n",
       "      <td>17408</td>\n",
       "      <td>36</td>\n",
       "      <td>2</td>\n",
       "      <td>1460.000000</td>\n",
       "    </tr>\n",
       "    <tr>\n",
       "      <th>4</th>\n",
       "      <td>17411</td>\n",
       "      <td>110</td>\n",
       "      <td>3</td>\n",
       "      <td>2593.995171</td>\n",
       "    </tr>\n",
       "  </tbody>\n",
       "</table>\n",
       "</div>"
      ],
      "text/plain": [
       "   memberId  Recency  Frequency     Monetary\n",
       "0      6661       15          4   996.330562\n",
       "1      7428       51          1   560.000000\n",
       "2     11777       14          5  2017.000000\n",
       "3     17408       36          2  1460.000000\n",
       "4     17411      110          3  2593.995171"
      ]
     },
     "execution_count": 66,
     "metadata": {},
     "output_type": "execute_result"
    }
   ],
   "source": [
    "RFM_Table = df_recency.merge(FM_Table,left_on='memberId',right_on='memberId')\n",
    "\n",
    "RFM_Table = RFM_Table.drop('Last_Purchase_Date', axis=1)\n",
    "\n",
    "RFM_Table.head()"
   ]
  },
  {
   "cell_type": "code",
   "execution_count": 67,
   "metadata": {},
   "outputs": [
    {
     "data": {
      "text/plain": [
       "<AxesSubplot:>"
      ]
     },
     "execution_count": 67,
     "metadata": {},
     "output_type": "execute_result"
    },
    {
     "data": {
      "image/png": "[encoded data removed]",
      "text/plain": [
       "<Figure size 432x288 with 2 Axes>"
      ]
     },
     "metadata": {
      "needs_background": "light"
     },
     "output_type": "display_data"
    }
   ],
   "source": [
    "#Heatmap check\n",
    "import seaborn as sns\n",
    "\n",
    "sns.heatmap(RFM_Table.corr(), annot=True)"
   ]
  },
  {
   "cell_type": "markdown",
   "metadata": {},
   "source": [
    "A highlight in the above chart is customers with high frequency to the website tends to spend more money.\n",
    "\n"
   ]
  },
  {
   "cell_type": "markdown",
   "metadata": {},
   "source": [
    "Modeling Data: RFM Quantiles\n",
    "\n",
    "    Now we split the metrics into segments using quantiles.\n",
    "We will assign a score from 1 to 4 to each Recency, Frequency and Monetary respectively.\n",
    "1 is the highest value, and 4 is the lowest value.\n",
    "A final RFM score (Overall Value) is calculated simply by combining individual RFM score numbers."
   ]
  },
  {
   "cell_type": "code",
   "execution_count": 68,
   "metadata": {},
   "outputs": [],
   "source": [
    "quantiles = RFM_Table.quantile(q=[0.25,0.50,0.75])\n",
    "quantiles = quantiles.to_dict()"
   ]
  },
  {
   "cell_type": "code",
   "execution_count": 69,
   "metadata": {},
   "outputs": [],
   "source": [
    "segmented_rfm = RFM_Table.copy()"
   ]
  },
  {
   "cell_type": "code",
   "execution_count": 70,
   "metadata": {},
   "outputs": [],
   "source": [
    "def RScore(x,p,d):\n",
    "    if x <= d[p][0.25]:\n",
    "        return 1\n",
    "    elif x <= d[p][0.50]:\n",
    "        return 2\n",
    "    elif x <= d[p][0.75]: \n",
    "        return 3\n",
    "    else:\n",
    "        return 4\n",
    "    \n",
    "def FMScore(x,p,d):\n",
    "    if x <= d[p][0.25]:\n",
    "        return 4\n",
    "    elif x <= d[p][0.50]:\n",
    "        return 3\n",
    "    elif x <= d[p][0.75]: \n",
    "        return 2\n",
    "    else:\n",
    "        return 1"
   ]
  },
  {
   "cell_type": "code",
   "execution_count": null,
   "metadata": {},
   "outputs": [],
   "source": []
  },
  {
   "cell_type": "code",
   "execution_count": 71,
   "metadata": {},
   "outputs": [
    {
     "data": {
      "text/html": [
       "<div>\n",
       "<style scoped>\n",
       "    .dataframe tbody tr th:only-of-type {\n",
       "        vertical-align: middle;\n",
       "    }\n",
       "\n",
       "    .dataframe tbody tr th {\n",
       "        vertical-align: top;\n",
       "    }\n",
       "\n",
       "    .dataframe thead th {\n",
       "        text-align: right;\n",
       "    }\n",
       "</style>\n",
       "<table border=\"1\" class=\"dataframe\">\n",
       "  <thead>\n",
       "    <tr style=\"text-align: right;\">\n",
       "      <th></th>\n",
       "      <th>memberId</th>\n",
       "      <th>Recency</th>\n",
       "      <th>Frequency</th>\n",
       "      <th>Monetary</th>\n",
       "      <th>R_quartile</th>\n",
       "      <th>F_quartile</th>\n",
       "      <th>M_quartile</th>\n",
       "    </tr>\n",
       "  </thead>\n",
       "  <tbody>\n",
       "    <tr>\n",
       "      <th>0</th>\n",
       "      <td>6661</td>\n",
       "      <td>15</td>\n",
       "      <td>4</td>\n",
       "      <td>996.330562</td>\n",
       "      <td>2</td>\n",
       "      <td>1</td>\n",
       "      <td>2</td>\n",
       "    </tr>\n",
       "    <tr>\n",
       "      <th>1</th>\n",
       "      <td>7428</td>\n",
       "      <td>51</td>\n",
       "      <td>1</td>\n",
       "      <td>560.000000</td>\n",
       "      <td>3</td>\n",
       "      <td>4</td>\n",
       "      <td>3</td>\n",
       "    </tr>\n",
       "    <tr>\n",
       "      <th>2</th>\n",
       "      <td>11777</td>\n",
       "      <td>14</td>\n",
       "      <td>5</td>\n",
       "      <td>2017.000000</td>\n",
       "      <td>1</td>\n",
       "      <td>1</td>\n",
       "      <td>1</td>\n",
       "    </tr>\n",
       "    <tr>\n",
       "      <th>3</th>\n",
       "      <td>17408</td>\n",
       "      <td>36</td>\n",
       "      <td>2</td>\n",
       "      <td>1460.000000</td>\n",
       "      <td>2</td>\n",
       "      <td>3</td>\n",
       "      <td>1</td>\n",
       "    </tr>\n",
       "    <tr>\n",
       "      <th>4</th>\n",
       "      <td>17411</td>\n",
       "      <td>110</td>\n",
       "      <td>3</td>\n",
       "      <td>2593.995171</td>\n",
       "      <td>3</td>\n",
       "      <td>2</td>\n",
       "      <td>1</td>\n",
       "    </tr>\n",
       "  </tbody>\n",
       "</table>\n",
       "</div>"
      ],
      "text/plain": [
       "   memberId  Recency  Frequency     Monetary  R_quartile  F_quartile  \\\n",
       "0      6661       15          4   996.330562           2           1   \n",
       "1      7428       51          1   560.000000           3           4   \n",
       "2     11777       14          5  2017.000000           1           1   \n",
       "3     17408       36          2  1460.000000           2           3   \n",
       "4     17411      110          3  2593.995171           3           2   \n",
       "\n",
       "   M_quartile  \n",
       "0           2  \n",
       "1           3  \n",
       "2           1  \n",
       "3           1  \n",
       "4           1  "
      ]
     },
     "execution_count": 71,
     "metadata": {},
     "output_type": "execute_result"
    }
   ],
   "source": [
    "segmented_rfm['R_quartile'] = segmented_rfm['Recency'].apply(RScore, args=('Recency',quantiles))\n",
    "segmented_rfm['F_quartile'] = segmented_rfm['Frequency'].apply(FMScore, args=('Frequency',quantiles))\n",
    "segmented_rfm['M_quartile'] = segmented_rfm['Monetary'].apply(FMScore, args=('Monetary',quantiles))\n",
    "segmented_rfm.head()"
   ]
  },
  {
   "cell_type": "markdown",
   "metadata": {},
   "source": [
    "Calculating the total RFM score combined.\n",
    "\n",
    "RFM_Score = R_quartile + F_quartile + M_quartile"
   ]
  },
  {
   "cell_type": "code",
   "execution_count": 72,
   "metadata": {},
   "outputs": [],
   "source": [
    "segmented_rfm['RFM_Segment'] = segmented_rfm.R_quartile.map(str)+segmented_rfm.F_quartile.map(str)+segmented_rfm.M_quartile.map(str)\n"
   ]
  },
  {
   "cell_type": "code",
   "execution_count": 73,
   "metadata": {},
   "outputs": [
    {
     "data": {
      "text/html": [
       "<div>\n",
       "<style scoped>\n",
       "    .dataframe tbody tr th:only-of-type {\n",
       "        vertical-align: middle;\n",
       "    }\n",
       "\n",
       "    .dataframe tbody tr th {\n",
       "        vertical-align: top;\n",
       "    }\n",
       "\n",
       "    .dataframe thead th {\n",
       "        text-align: right;\n",
       "    }\n",
       "</style>\n",
       "<table border=\"1\" class=\"dataframe\">\n",
       "  <thead>\n",
       "    <tr style=\"text-align: right;\">\n",
       "      <th></th>\n",
       "      <th>memberId</th>\n",
       "      <th>Recency</th>\n",
       "      <th>Frequency</th>\n",
       "      <th>Monetary</th>\n",
       "      <th>R_quartile</th>\n",
       "      <th>F_quartile</th>\n",
       "      <th>M_quartile</th>\n",
       "      <th>RFM_Segment</th>\n",
       "    </tr>\n",
       "  </thead>\n",
       "  <tbody>\n",
       "    <tr>\n",
       "      <th>0</th>\n",
       "      <td>6661</td>\n",
       "      <td>15</td>\n",
       "      <td>4</td>\n",
       "      <td>996.330562</td>\n",
       "      <td>2</td>\n",
       "      <td>1</td>\n",
       "      <td>2</td>\n",
       "      <td>212</td>\n",
       "    </tr>\n",
       "    <tr>\n",
       "      <th>1</th>\n",
       "      <td>7428</td>\n",
       "      <td>51</td>\n",
       "      <td>1</td>\n",
       "      <td>560.000000</td>\n",
       "      <td>3</td>\n",
       "      <td>4</td>\n",
       "      <td>3</td>\n",
       "      <td>343</td>\n",
       "    </tr>\n",
       "    <tr>\n",
       "      <th>2</th>\n",
       "      <td>11777</td>\n",
       "      <td>14</td>\n",
       "      <td>5</td>\n",
       "      <td>2017.000000</td>\n",
       "      <td>1</td>\n",
       "      <td>1</td>\n",
       "      <td>1</td>\n",
       "      <td>111</td>\n",
       "    </tr>\n",
       "    <tr>\n",
       "      <th>3</th>\n",
       "      <td>17408</td>\n",
       "      <td>36</td>\n",
       "      <td>2</td>\n",
       "      <td>1460.000000</td>\n",
       "      <td>2</td>\n",
       "      <td>3</td>\n",
       "      <td>1</td>\n",
       "      <td>231</td>\n",
       "    </tr>\n",
       "    <tr>\n",
       "      <th>4</th>\n",
       "      <td>17411</td>\n",
       "      <td>110</td>\n",
       "      <td>3</td>\n",
       "      <td>2593.995171</td>\n",
       "      <td>3</td>\n",
       "      <td>2</td>\n",
       "      <td>1</td>\n",
       "      <td>321</td>\n",
       "    </tr>\n",
       "  </tbody>\n",
       "</table>\n",
       "</div>"
      ],
      "text/plain": [
       "   memberId  Recency  Frequency     Monetary  R_quartile  F_quartile  \\\n",
       "0      6661       15          4   996.330562           2           1   \n",
       "1      7428       51          1   560.000000           3           4   \n",
       "2     11777       14          5  2017.000000           1           1   \n",
       "3     17408       36          2  1460.000000           2           3   \n",
       "4     17411      110          3  2593.995171           3           2   \n",
       "\n",
       "   M_quartile RFM_Segment  \n",
       "0           2         212  \n",
       "1           3         343  \n",
       "2           1         111  \n",
       "3           1         231  \n",
       "4           1         321  "
      ]
     },
     "execution_count": 73,
     "metadata": {},
     "output_type": "execute_result"
    }
   ],
   "source": [
    "segmented_rfm.head()\n"
   ]
  },
  {
   "cell_type": "code",
   "execution_count": 74,
   "metadata": {},
   "outputs": [],
   "source": [
    "segmented_rfm['RFM_Score'] = segmented_rfm[['R_quartile','F_quartile','M_quartile']].sum(axis=1)\n"
   ]
  },
  {
   "cell_type": "code",
   "execution_count": 75,
   "metadata": {},
   "outputs": [
    {
     "data": {
      "text/html": [
       "<div>\n",
       "<style scoped>\n",
       "    .dataframe tbody tr th:only-of-type {\n",
       "        vertical-align: middle;\n",
       "    }\n",
       "\n",
       "    .dataframe tbody tr th {\n",
       "        vertical-align: top;\n",
       "    }\n",
       "\n",
       "    .dataframe thead th {\n",
       "        text-align: right;\n",
       "    }\n",
       "</style>\n",
       "<table border=\"1\" class=\"dataframe\">\n",
       "  <thead>\n",
       "    <tr style=\"text-align: right;\">\n",
       "      <th></th>\n",
       "      <th>memberId</th>\n",
       "      <th>Recency</th>\n",
       "      <th>Frequency</th>\n",
       "      <th>Monetary</th>\n",
       "      <th>R_quartile</th>\n",
       "      <th>F_quartile</th>\n",
       "      <th>M_quartile</th>\n",
       "      <th>RFM_Segment</th>\n",
       "      <th>RFM_Score</th>\n",
       "    </tr>\n",
       "  </thead>\n",
       "  <tbody>\n",
       "    <tr>\n",
       "      <th>0</th>\n",
       "      <td>6661</td>\n",
       "      <td>15</td>\n",
       "      <td>4</td>\n",
       "      <td>996.330562</td>\n",
       "      <td>2</td>\n",
       "      <td>1</td>\n",
       "      <td>2</td>\n",
       "      <td>212</td>\n",
       "      <td>5</td>\n",
       "    </tr>\n",
       "    <tr>\n",
       "      <th>1</th>\n",
       "      <td>7428</td>\n",
       "      <td>51</td>\n",
       "      <td>1</td>\n",
       "      <td>560.000000</td>\n",
       "      <td>3</td>\n",
       "      <td>4</td>\n",
       "      <td>3</td>\n",
       "      <td>343</td>\n",
       "      <td>10</td>\n",
       "    </tr>\n",
       "    <tr>\n",
       "      <th>2</th>\n",
       "      <td>11777</td>\n",
       "      <td>14</td>\n",
       "      <td>5</td>\n",
       "      <td>2017.000000</td>\n",
       "      <td>1</td>\n",
       "      <td>1</td>\n",
       "      <td>1</td>\n",
       "      <td>111</td>\n",
       "      <td>3</td>\n",
       "    </tr>\n",
       "    <tr>\n",
       "      <th>3</th>\n",
       "      <td>17408</td>\n",
       "      <td>36</td>\n",
       "      <td>2</td>\n",
       "      <td>1460.000000</td>\n",
       "      <td>2</td>\n",
       "      <td>3</td>\n",
       "      <td>1</td>\n",
       "      <td>231</td>\n",
       "      <td>6</td>\n",
       "    </tr>\n",
       "    <tr>\n",
       "      <th>4</th>\n",
       "      <td>17411</td>\n",
       "      <td>110</td>\n",
       "      <td>3</td>\n",
       "      <td>2593.995171</td>\n",
       "      <td>3</td>\n",
       "      <td>2</td>\n",
       "      <td>1</td>\n",
       "      <td>321</td>\n",
       "      <td>6</td>\n",
       "    </tr>\n",
       "  </tbody>\n",
       "</table>\n",
       "</div>"
      ],
      "text/plain": [
       "   memberId  Recency  Frequency     Monetary  R_quartile  F_quartile  \\\n",
       "0      6661       15          4   996.330562           2           1   \n",
       "1      7428       51          1   560.000000           3           4   \n",
       "2     11777       14          5  2017.000000           1           1   \n",
       "3     17408       36          2  1460.000000           2           3   \n",
       "4     17411      110          3  2593.995171           3           2   \n",
       "\n",
       "   M_quartile RFM_Segment  RFM_Score  \n",
       "0           2         212          5  \n",
       "1           3         343         10  \n",
       "2           1         111          3  \n",
       "3           1         231          6  \n",
       "4           1         321          6  "
      ]
     },
     "execution_count": 75,
     "metadata": {},
     "output_type": "execute_result"
    }
   ],
   "source": [
    "segmented_rfm.head()\n"
   ]
  },
  {
   "cell_type": "code",
   "execution_count": 76,
   "metadata": {},
   "outputs": [
    {
     "name": "stdout",
     "output_type": "stream",
     "text": [
      "Best Customers:  279\n",
      "Loyal Customers:  755\n",
      "Big Spenders:  846\n",
      "Almost Lost:  29\n",
      "Lost Customers:  175\n",
      "Lost Cheap Customers:  289\n"
     ]
    }
   ],
   "source": [
    "print(\"Best Customers: \",len(segmented_rfm[segmented_rfm['RFM_Segment']=='111']))\n",
    "print('Loyal Customers: ',len(segmented_rfm[segmented_rfm['F_quartile']==1]))\n",
    "print(\"Big Spenders: \",len(segmented_rfm[segmented_rfm['M_quartile']==1]))\n",
    "print('Almost Lost: ', len(segmented_rfm[segmented_rfm['RFM_Segment']=='134']))\n",
    "print('Lost Customers: ',len(segmented_rfm[segmented_rfm['RFM_Segment']=='344']))\n",
    "print('Lost Cheap Customers: ',len(segmented_rfm[segmented_rfm['RFM_Segment']=='444']))"
   ]
  },
  {
   "cell_type": "code",
   "execution_count": 77,
   "metadata": {},
   "outputs": [],
   "source": [
    "# Setting up the label for each client and adding the column \"Label\" to the dataframe\n",
    "\n",
    "label = [0] * len(segmented_rfm)\n",
    "\n",
    "for i in range(0,len(segmented_rfm)):\n",
    "\n",
    "    if segmented_rfm['RFM_Segment'][i] == '111':\n",
    "        label[i] = \"Best Customers\"\n",
    "        \n",
    "    elif segmented_rfm['RFM_Segment'][i] == '134' :\n",
    "        label[i] = \"Almost Lost\"\n",
    "        \n",
    "    elif segmented_rfm['RFM_Segment'][i] == '344':\n",
    "        label[i] = \"Lost Customers\"\n",
    "    \n",
    "    elif segmented_rfm['RFM_Segment'][i] == '444':\n",
    "        label[i] = \"Lost Cheap Customers\"\n",
    "\n",
    "    elif segmented_rfm['F_quartile'][i] == 1:\n",
    "        label[i] = \"Loyal Customers\"  \n",
    "    \n",
    "    elif segmented_rfm['M_quartile'][i] == 1:\n",
    "        label[i] = \"Big Spenders\"   \n",
    "        \n",
    "    else:\n",
    "        label[i] = \"Others\""
   ]
  },
  {
   "cell_type": "code",
   "execution_count": 78,
   "metadata": {},
   "outputs": [],
   "source": [
    "# Adding the 'Label' column to our dataframe\n",
    "\n",
    "segmented_rfm['Label'] = label"
   ]
  },
  {
   "cell_type": "code",
   "execution_count": 79,
   "metadata": {},
   "outputs": [
    {
     "data": {
      "text/plain": [
       "Others                  1818\n",
       "Loyal Customers          476\n",
       "Big Spenders             317\n",
       "Lost Cheap Customers     289\n",
       "Best Customers           279\n",
       "Lost Customers           175\n",
       "Almost Lost               29\n",
       "Name: Label, dtype: int64"
      ]
     },
     "execution_count": 79,
     "metadata": {},
     "output_type": "execute_result"
    }
   ],
   "source": [
    "# Count the frequency that a value occurs in a dataframe column for the labels.\n",
    "\n",
    "segmented_rfm['Label'].value_counts()"
   ]
  },
  {
   "cell_type": "code",
   "execution_count": 80,
   "metadata": {},
   "outputs": [
    {
     "data": {
      "image/png": "[encoded data removed]",
      "text/plain": [
       "<Figure size 864x576 with 1 Axes>"
      ]
     },
     "metadata": {
      "needs_background": "light"
     },
     "output_type": "display_data"
    }
   ],
   "source": [
    "import seaborn as sns\n",
    "sq1=segmented_rfm.groupby('Label')['memberId'].nunique().sort_values(ascending=False).reset_index()\n",
    "plt.figure(figsize=(12,8))\n",
    "sq1.drop([0],inplace=True)\n",
    "sns.barplot(data=sq1, x=\"Label\", y=\"memberId\", palette = \"pink\");"
   ]
  },
  {
   "cell_type": "markdown",
   "metadata": {},
   "source": [
    "Modeling Data: K-Means Clustering\n",
    "K-Means clustering algorithm is an unsupervised machine learning algorithm that uses multiple iterations to segment the unlabeled data points into K different clusters in a way such that each data point belongs to only a single group that has similar properties.\n",
    "\n"
   ]
  },
  {
   "cell_type": "code",
   "execution_count": 81,
   "metadata": {},
   "outputs": [],
   "source": [
    "RFM_Table_New = RFM_Table.drop('memberId', axis=1)\n"
   ]
  },
  {
   "cell_type": "code",
   "execution_count": 82,
   "metadata": {},
   "outputs": [
    {
     "data": {
      "image/png": "[encoded data removed]",
      "text/plain": [
       "<Figure size 432x288 with 2 Axes>"
      ]
     },
     "metadata": {
      "needs_background": "light"
     },
     "output_type": "display_data"
    }
   ],
   "source": [
    "#Heatmap check\n",
    "sns.heatmap(RFM_Table_New.corr(), annot=True);"
   ]
  },
  {
   "cell_type": "code",
   "execution_count": 83,
   "metadata": {},
   "outputs": [
    {
     "name": "stderr",
     "output_type": "stream",
     "text": [
      "C:\\Users\\kkwan\\anaconda3\\lib\\site-packages\\seaborn\\distributions.py:2619: FutureWarning: `distplot` is a deprecated function and will be removed in a future version. Please adapt your code to use either `displot` (a figure-level function with similar flexibility) or `histplot` (an axes-level function for histograms).\n",
      "  warnings.warn(msg, FutureWarning)\n"
     ]
    },
    {
     "data": {
      "text/plain": [
       "<AxesSubplot:xlabel='Recency', ylabel='Density'>"
      ]
     },
     "execution_count": 83,
     "metadata": {},
     "output_type": "execute_result"
    },
    {
     "data": {
      "image/png": "[encoded data removed]",
      "text/plain": [
       "<Figure size 432x288 with 1 Axes>"
      ]
     },
     "metadata": {
      "needs_background": "light"
     },
     "output_type": "display_data"
    }
   ],
   "source": [
    "#Analyze distribution\n",
    "\n",
    "sns.distplot(RFM_Table_New['Recency'])"
   ]
  },
  {
   "cell_type": "code",
   "execution_count": 84,
   "metadata": {},
   "outputs": [
    {
     "name": "stderr",
     "output_type": "stream",
     "text": [
      "C:\\Users\\kkwan\\anaconda3\\lib\\site-packages\\seaborn\\distributions.py:2619: FutureWarning: `distplot` is a deprecated function and will be removed in a future version. Please adapt your code to use either `displot` (a figure-level function with similar flexibility) or `histplot` (an axes-level function for histograms).\n",
      "  warnings.warn(msg, FutureWarning)\n"
     ]
    },
    {
     "data": {
      "text/plain": [
       "<AxesSubplot:xlabel='Frequency', ylabel='Density'>"
      ]
     },
     "execution_count": 84,
     "metadata": {},
     "output_type": "execute_result"
    },
    {
     "data": {
      "image/png": "[encoded data removed]",
      "text/plain": [
       "<Figure size 432x288 with 1 Axes>"
      ]
     },
     "metadata": {
      "needs_background": "light"
     },
     "output_type": "display_data"
    }
   ],
   "source": [
    "sns.distplot(RFM_Table_New['Frequency'])\n"
   ]
  },
  {
   "cell_type": "code",
   "execution_count": 85,
   "metadata": {},
   "outputs": [
    {
     "name": "stderr",
     "output_type": "stream",
     "text": [
      "C:\\Users\\kkwan\\anaconda3\\lib\\site-packages\\seaborn\\distributions.py:2619: FutureWarning: `distplot` is a deprecated function and will be removed in a future version. Please adapt your code to use either `displot` (a figure-level function with similar flexibility) or `histplot` (an axes-level function for histograms).\n",
      "  warnings.warn(msg, FutureWarning)\n"
     ]
    },
    {
     "data": {
      "text/plain": [
       "<AxesSubplot:xlabel='Monetary', ylabel='Density'>"
      ]
     },
     "execution_count": 85,
     "metadata": {},
     "output_type": "execute_result"
    },
    {
     "data": {
      "image/png": "[encoded data removed]",
      "text/plain": [
       "<Figure size 432x288 with 1 Axes>"
      ]
     },
     "metadata": {
      "needs_background": "light"
     },
     "output_type": "display_data"
    }
   ],
   "source": [
    "sns.distplot(RFM_Table_New['Monetary'])\n"
   ]
  },
  {
   "cell_type": "markdown",
   "metadata": {},
   "source": [
    "K-means gives the best result under the following conditions:\n",
    "Data’s distribution is not skewed.\n",
    "Data is standardised.\n",
    "The data is highly skewed,therefore we will perform log transformations to reduce the skewness of each variable. I added a small constant as log transformation demands all the values to be positive."
   ]
  },
  {
   "cell_type": "code",
   "execution_count": 86,
   "metadata": {},
   "outputs": [
    {
     "data": {
      "text/html": [
       "<div>\n",
       "<style scoped>\n",
       "    .dataframe tbody tr th:only-of-type {\n",
       "        vertical-align: middle;\n",
       "    }\n",
       "\n",
       "    .dataframe tbody tr th {\n",
       "        vertical-align: top;\n",
       "    }\n",
       "\n",
       "    .dataframe thead th {\n",
       "        text-align: right;\n",
       "    }\n",
       "</style>\n",
       "<table border=\"1\" class=\"dataframe\">\n",
       "  <thead>\n",
       "    <tr style=\"text-align: right;\">\n",
       "      <th></th>\n",
       "      <th>Recency</th>\n",
       "      <th>Frequency</th>\n",
       "      <th>Monetary</th>\n",
       "    </tr>\n",
       "  </thead>\n",
       "  <tbody>\n",
       "    <tr>\n",
       "      <th>0</th>\n",
       "      <td>15</td>\n",
       "      <td>4</td>\n",
       "      <td>996.330562</td>\n",
       "    </tr>\n",
       "    <tr>\n",
       "      <th>1</th>\n",
       "      <td>51</td>\n",
       "      <td>1</td>\n",
       "      <td>560.000000</td>\n",
       "    </tr>\n",
       "    <tr>\n",
       "      <th>2</th>\n",
       "      <td>14</td>\n",
       "      <td>5</td>\n",
       "      <td>2017.000000</td>\n",
       "    </tr>\n",
       "    <tr>\n",
       "      <th>3</th>\n",
       "      <td>36</td>\n",
       "      <td>2</td>\n",
       "      <td>1460.000000</td>\n",
       "    </tr>\n",
       "    <tr>\n",
       "      <th>4</th>\n",
       "      <td>110</td>\n",
       "      <td>3</td>\n",
       "      <td>2593.995171</td>\n",
       "    </tr>\n",
       "  </tbody>\n",
       "</table>\n",
       "</div>"
      ],
      "text/plain": [
       "   Recency  Frequency     Monetary\n",
       "0       15          4   996.330562\n",
       "1       51          1   560.000000\n",
       "2       14          5  2017.000000\n",
       "3       36          2  1460.000000\n",
       "4      110          3  2593.995171"
      ]
     },
     "execution_count": 86,
     "metadata": {},
     "output_type": "execute_result"
    }
   ],
   "source": [
    "df_rfm_log = RFM_Table_New.copy()\n",
    "df_rfm_log.head()"
   ]
  },
  {
   "cell_type": "code",
   "execution_count": 87,
   "metadata": {},
   "outputs": [],
   "source": [
    "import pandas as pd\n",
    "import numpy as np\n",
    "import matplotlib.pyplot as plt\n",
    "import seaborn as sns\n",
    "\n",
    "import datetime as dt\n",
    "\n",
    "import feature_engine\n",
    "from feature_engine.outliers import Winsorizer\n",
    "\n",
    "from scipy import stats\n",
    "from sklearn.preprocessing import StandardScaler\n",
    "from sklearn.manifold import TSNE\n",
    "\n",
    "\n",
    "from sklearn.cluster import KMeans\n",
    "from sklearn.cluster import AgglomerativeClustering\n",
    "import scipy.cluster.hierarchy as sch\n",
    "from sklearn.metrics import davies_bouldin_score"
   ]
  },
  {
   "cell_type": "code",
   "execution_count": 88,
   "metadata": {},
   "outputs": [],
   "source": [
    "df_rfm_log = np.log(df_rfm_log+1)"
   ]
  },
  {
   "cell_type": "code",
   "execution_count": 89,
   "metadata": {},
   "outputs": [
    {
     "data": {
      "text/html": [
       "<style>#sk-container-id-1 {color: black;background-color: white;}#sk-container-id-1 pre{padding: 0;}#sk-container-id-1 div.sk-toggleable {background-color: white;}#sk-container-id-1 label.sk-toggleable__label {cursor: pointer;display: block;width: 100%;margin-bottom: 0;padding: 0.3em;box-sizing: border-box;text-align: center;}#sk-container-id-1 label.sk-toggleable__label-arrow:before {content: \"▸\";float: left;margin-right: 0.25em;color: #696969;}#sk-container-id-1 label.sk-toggleable__label-arrow:hover:before {color: black;}#sk-container-id-1 div.sk-estimator:hover label.sk-toggleable__label-arrow:before {color: black;}#sk-container-id-1 div.sk-toggleable__content {max-height: 0;max-width: 0;overflow: hidden;text-align: left;background-color: #f0f8ff;}#sk-container-id-1 div.sk-toggleable__content pre {margin: 0.2em;color: black;border-radius: 0.25em;background-color: #f0f8ff;}#sk-container-id-1 input.sk-toggleable__control:checked~div.sk-toggleable__content {max-height: 200px;max-width: 100%;overflow: auto;}#sk-container-id-1 input.sk-toggleable__control:checked~label.sk-toggleable__label-arrow:before {content: \"▾\";}#sk-container-id-1 div.sk-estimator input.sk-toggleable__control:checked~label.sk-toggleable__label {background-color: #d4ebff;}#sk-container-id-1 div.sk-label input.sk-toggleable__control:checked~label.sk-toggleable__label {background-color: #d4ebff;}#sk-container-id-1 input.sk-hidden--visually {border: 0;clip: rect(1px 1px 1px 1px);clip: rect(1px, 1px, 1px, 1px);height: 1px;margin: -1px;overflow: hidden;padding: 0;position: absolute;width: 1px;}#sk-container-id-1 div.sk-estimator {font-family: monospace;background-color: #f0f8ff;border: 1px dotted black;border-radius: 0.25em;box-sizing: border-box;margin-bottom: 0.5em;}#sk-container-id-1 div.sk-estimator:hover {background-color: #d4ebff;}#sk-container-id-1 div.sk-parallel-item::after {content: \"\";width: 100%;border-bottom: 1px solid gray;flex-grow: 1;}#sk-container-id-1 div.sk-label:hover label.sk-toggleable__label {background-color: #d4ebff;}#sk-container-id-1 div.sk-serial::before {content: \"\";position: absolute;border-left: 1px solid gray;box-sizing: border-box;top: 0;bottom: 0;left: 50%;z-index: 0;}#sk-container-id-1 div.sk-serial {display: flex;flex-direction: column;align-items: center;background-color: white;padding-right: 0.2em;padding-left: 0.2em;position: relative;}#sk-container-id-1 div.sk-item {position: relative;z-index: 1;}#sk-container-id-1 div.sk-parallel {display: flex;align-items: stretch;justify-content: center;background-color: white;position: relative;}#sk-container-id-1 div.sk-item::before, #sk-container-id-1 div.sk-parallel-item::before {content: \"\";position: absolute;border-left: 1px solid gray;box-sizing: border-box;top: 0;bottom: 0;left: 50%;z-index: -1;}#sk-container-id-1 div.sk-parallel-item {display: flex;flex-direction: column;z-index: 1;position: relative;background-color: white;}#sk-container-id-1 div.sk-parallel-item:first-child::after {align-self: flex-end;width: 50%;}#sk-container-id-1 div.sk-parallel-item:last-child::after {align-self: flex-start;width: 50%;}#sk-container-id-1 div.sk-parallel-item:only-child::after {width: 0;}#sk-container-id-1 div.sk-dashed-wrapped {border: 1px dashed gray;margin: 0 0.4em 0.5em 0.4em;box-sizing: border-box;padding-bottom: 0.4em;background-color: white;}#sk-container-id-1 div.sk-label label {font-family: monospace;font-weight: bold;display: inline-block;line-height: 1.2em;}#sk-container-id-1 div.sk-label-container {text-align: center;}#sk-container-id-1 div.sk-container {/* jupyter's `normalize.less` sets `[hidden] { display: none; }` but bootstrap.min.css set `[hidden] { display: none !important; }` so we also need the `!important` here to be able to override the default hidden behavior on the sphinx rendered scikit-learn.org. See: https://github.com/scikit-learn/scikit-learn/issues/21755 */display: inline-block !important;position: relative;}#sk-container-id-1 div.sk-text-repr-fallback {display: none;}</style><div id=\"sk-container-id-1\" class=\"sk-top-container\"><div class=\"sk-text-repr-fallback\"><pre>Winsorizer(fold=2, tail=&#x27;both&#x27;, variables=[&#x27;Recency&#x27;, &#x27;Frequency&#x27;, &#x27;Monetary&#x27;])</pre><b>In a Jupyter environment, please rerun this cell to show the HTML representation or trust the notebook. <br />On GitHub, the HTML representation is unable to render, please try loading this page with nbviewer.org.</b></div><div class=\"sk-container\" hidden><div class=\"sk-item\"><div class=\"sk-estimator sk-toggleable\"><input class=\"sk-toggleable__control sk-hidden--visually\" id=\"sk-estimator-id-1\" type=\"checkbox\" checked><label for=\"sk-estimator-id-1\" class=\"sk-toggleable__label sk-toggleable__label-arrow\">Winsorizer</label><div class=\"sk-toggleable__content\"><pre>Winsorizer(fold=2, tail=&#x27;both&#x27;, variables=[&#x27;Recency&#x27;, &#x27;Frequency&#x27;, &#x27;Monetary&#x27;])</pre></div></div></div></div></div>"
      ],
      "text/plain": [
       "Winsorizer(fold=2, tail='both', variables=['Recency', 'Frequency', 'Monetary'])"
      ]
     },
     "execution_count": 89,
     "metadata": {},
     "output_type": "execute_result"
    }
   ],
   "source": [
    "windsoriser = Winsorizer(tail='both', # cap left, right or both tails \n",
    "                          fold=2,\n",
    "                           variables=[ 'Recency', 'Frequency', 'Monetary']\n",
    "                        )\n",
    "windsoriser.fit(df_rfm_log)"
   ]
  },
  {
   "cell_type": "code",
   "execution_count": 91,
   "metadata": {},
   "outputs": [],
   "source": [
    "df_rfm_log = windsoriser.transform(df_rfm_log)\n"
   ]
  },
  {
   "cell_type": "code",
   "execution_count": 92,
   "metadata": {},
   "outputs": [],
   "source": [
    "#Developing preprocessing with StandardScaler\n",
    "\n",
    "scaler = StandardScaler()\n",
    "\n",
    "scaler.fit(df_rfm_log)\n",
    "\n",
    "RFM_Table_New_scaled = scaler.transform(df_rfm_log)"
   ]
  },
  {
   "cell_type": "code",
   "execution_count": 93,
   "metadata": {},
   "outputs": [
    {
     "data": {
      "text/html": [
       "<div>\n",
       "<style scoped>\n",
       "    .dataframe tbody tr th:only-of-type {\n",
       "        vertical-align: middle;\n",
       "    }\n",
       "\n",
       "    .dataframe tbody tr th {\n",
       "        vertical-align: top;\n",
       "    }\n",
       "\n",
       "    .dataframe thead th {\n",
       "        text-align: right;\n",
       "    }\n",
       "</style>\n",
       "<table border=\"1\" class=\"dataframe\">\n",
       "  <thead>\n",
       "    <tr style=\"text-align: right;\">\n",
       "      <th></th>\n",
       "      <th>Recency</th>\n",
       "      <th>Frequency</th>\n",
       "      <th>Monetary</th>\n",
       "    </tr>\n",
       "  </thead>\n",
       "  <tbody>\n",
       "    <tr>\n",
       "      <th>0</th>\n",
       "      <td>-0.746912</td>\n",
       "      <td>0.988540</td>\n",
       "      <td>0.356633</td>\n",
       "    </tr>\n",
       "    <tr>\n",
       "      <th>1</th>\n",
       "      <td>0.264950</td>\n",
       "      <td>-0.926978</td>\n",
       "      <td>-0.167811</td>\n",
       "    </tr>\n",
       "    <tr>\n",
       "      <th>2</th>\n",
       "      <td>-0.802317</td>\n",
       "      <td>1.369686</td>\n",
       "      <td>0.999043</td>\n",
       "    </tr>\n",
       "    <tr>\n",
       "      <th>3</th>\n",
       "      <td>-0.027216</td>\n",
       "      <td>-0.079348</td>\n",
       "      <td>0.704641</td>\n",
       "    </tr>\n",
       "    <tr>\n",
       "      <th>4</th>\n",
       "      <td>0.915930</td>\n",
       "      <td>0.522056</td>\n",
       "      <td>1.228267</td>\n",
       "    </tr>\n",
       "  </tbody>\n",
       "</table>\n",
       "</div>"
      ],
      "text/plain": [
       "    Recency  Frequency  Monetary\n",
       "0 -0.746912   0.988540  0.356633\n",
       "1  0.264950  -0.926978 -0.167811\n",
       "2 -0.802317   1.369686  0.999043\n",
       "3 -0.027216  -0.079348  0.704641\n",
       "4  0.915930   0.522056  1.228267"
      ]
     },
     "execution_count": 93,
     "metadata": {},
     "output_type": "execute_result"
    }
   ],
   "source": [
    "RFM_Table_New_scaled = pd.DataFrame(RFM_Table_New_scaled, columns=RFM_Table_New.columns)\n",
    "RFM_Table_New_scaled.head()"
   ]
  },
  {
   "cell_type": "code",
   "execution_count": 94,
   "metadata": {},
   "outputs": [
    {
     "name": "stderr",
     "output_type": "stream",
     "text": [
      "C:\\Users\\kkwan\\anaconda3\\lib\\site-packages\\seaborn\\distributions.py:2619: FutureWarning: `distplot` is a deprecated function and will be removed in a future version. Please adapt your code to use either `displot` (a figure-level function with similar flexibility) or `histplot` (an axes-level function for histograms).\n",
      "  warnings.warn(msg, FutureWarning)\n"
     ]
    },
    {
     "data": {
      "text/plain": [
       "<AxesSubplot:xlabel='Recency', ylabel='Density'>"
      ]
     },
     "execution_count": 94,
     "metadata": {},
     "output_type": "execute_result"
    },
    {
     "data": {
      "image/png": "[encoded data removed]",
      "text/plain": [
       "<Figure size 432x288 with 1 Axes>"
      ]
     },
     "metadata": {
      "needs_background": "light"
     },
     "output_type": "display_data"
    }
   ],
   "source": [
    "#Analyze distribution\n",
    "\n",
    "sns.distplot(RFM_Table_New_scaled['Recency'])"
   ]
  },
  {
   "cell_type": "code",
   "execution_count": 95,
   "metadata": {},
   "outputs": [
    {
     "name": "stderr",
     "output_type": "stream",
     "text": [
      "C:\\Users\\kkwan\\anaconda3\\lib\\site-packages\\seaborn\\distributions.py:2619: FutureWarning: `distplot` is a deprecated function and will be removed in a future version. Please adapt your code to use either `displot` (a figure-level function with similar flexibility) or `histplot` (an axes-level function for histograms).\n",
      "  warnings.warn(msg, FutureWarning)\n"
     ]
    },
    {
     "data": {
      "text/plain": [
       "<AxesSubplot:xlabel='Frequency', ylabel='Density'>"
      ]
     },
     "execution_count": 95,
     "metadata": {},
     "output_type": "execute_result"
    },
    {
     "data": {
      "image/png": "[encoded data removed]",
      "text/plain": [
       "<Figure size 432x288 with 1 Axes>"
      ]
     },
     "metadata": {
      "needs_background": "light"
     },
     "output_type": "display_data"
    }
   ],
   "source": [
    "sns.distplot(RFM_Table_New_scaled['Frequency'])\n"
   ]
  },
  {
   "cell_type": "code",
   "execution_count": 96,
   "metadata": {},
   "outputs": [
    {
     "name": "stderr",
     "output_type": "stream",
     "text": [
      "C:\\Users\\kkwan\\anaconda3\\lib\\site-packages\\seaborn\\distributions.py:2619: FutureWarning: `distplot` is a deprecated function and will be removed in a future version. Please adapt your code to use either `displot` (a figure-level function with similar flexibility) or `histplot` (an axes-level function for histograms).\n",
      "  warnings.warn(msg, FutureWarning)\n"
     ]
    },
    {
     "data": {
      "text/plain": [
       "<AxesSubplot:xlabel='Monetary', ylabel='Density'>"
      ]
     },
     "execution_count": 96,
     "metadata": {},
     "output_type": "execute_result"
    },
    {
     "data": {
      "image/png": "[encoded data removed]",
      "text/plain": [
       "<Figure size 432x288 with 1 Axes>"
      ]
     },
     "metadata": {
      "needs_background": "light"
     },
     "output_type": "display_data"
    }
   ],
   "source": [
    "sns.distplot(RFM_Table_New_scaled['Monetary'])\n"
   ]
  },
  {
   "cell_type": "code",
   "execution_count": 97,
   "metadata": {},
   "outputs": [],
   "source": [
    "X = np.asarray(RFM_Table_New_scaled)\n"
   ]
  },
  {
   "cell_type": "code",
   "execution_count": 98,
   "metadata": {},
   "outputs": [
    {
     "data": {
      "image/png": "[encoded data removed]",
      "text/plain": [
       "<Figure size 432x288 with 1 Axes>"
      ]
     },
     "metadata": {
      "needs_background": "light"
     },
     "output_type": "display_data"
    }
   ],
   "source": [
    "Sum_of_squared_distances = []\n",
    "K = range(1,16)\n",
    "for k in K:\n",
    "    km = KMeans(n_clusters=k)\n",
    "    km = km.fit(X)\n",
    "    Sum_of_squared_distances.append(km.inertia_)\n",
    "\n",
    "plt.plot(K, Sum_of_squared_distances, 'bx-')\n",
    "plt.xlabel('k')\n",
    "plt.ylabel('Sum_of_squared_distances')\n",
    "plt.title('Elbow Method For Optimal k')\n",
    "plt.show()"
   ]
  },
  {
   "cell_type": "code",
   "execution_count": 99,
   "metadata": {},
   "outputs": [],
   "source": [
    "def kmeans(normalised_df_rfm, clusters_number, original_df_rfm):\n",
    "    \n",
    "    kmeans = KMeans(n_clusters = clusters_number, random_state = 1)\n",
    "    kmeans.fit(normalised_df_rfm)\n",
    "\n",
    "    # Extract cluster labels\n",
    "    cluster_labels = kmeans.labels_\n",
    "        \n",
    "    # Create a cluster label column in original dataset\n",
    "    df_new = original_df_rfm.assign(Cluster = cluster_labels)\n",
    "    \n",
    "    # Initialise TSNE\n",
    "    model = TSNE(random_state=1)\n",
    "    transformed = model.fit_transform(df_new)\n",
    "    \n",
    "    # Plot t-SNE\n",
    "    plt.title('Flattened Graph of {} Clusters'.format(clusters_number))\n",
    "    sns.scatterplot(x=transformed[:,0], y=transformed[:,1], hue=cluster_labels, style=cluster_labels, palette=\"Set1\")\n",
    "    \n",
    "    return df_new"
   ]
  },
  {
   "cell_type": "code",
   "execution_count": 100,
   "metadata": {},
   "outputs": [
    {
     "name": "stderr",
     "output_type": "stream",
     "text": [
      "C:\\Users\\kkwan\\anaconda3\\lib\\site-packages\\sklearn\\manifold\\_t_sne.py:800: FutureWarning: The default initialization in TSNE will change from 'random' to 'pca' in 1.2.\n",
      "  warnings.warn(\n",
      "C:\\Users\\kkwan\\anaconda3\\lib\\site-packages\\sklearn\\manifold\\_t_sne.py:810: FutureWarning: The default learning rate in TSNE will change from 200.0 to 'auto' in 1.2.\n",
      "  warnings.warn(\n",
      "C:\\Users\\kkwan\\anaconda3\\lib\\site-packages\\sklearn\\manifold\\_t_sne.py:800: FutureWarning: The default initialization in TSNE will change from 'random' to 'pca' in 1.2.\n",
      "  warnings.warn(\n",
      "C:\\Users\\kkwan\\anaconda3\\lib\\site-packages\\sklearn\\manifold\\_t_sne.py:810: FutureWarning: The default learning rate in TSNE will change from 200.0 to 'auto' in 1.2.\n",
      "  warnings.warn(\n",
      "C:\\Users\\kkwan\\anaconda3\\lib\\site-packages\\sklearn\\manifold\\_t_sne.py:800: FutureWarning: The default initialization in TSNE will change from 'random' to 'pca' in 1.2.\n",
      "  warnings.warn(\n",
      "C:\\Users\\kkwan\\anaconda3\\lib\\site-packages\\sklearn\\manifold\\_t_sne.py:810: FutureWarning: The default learning rate in TSNE will change from 200.0 to 'auto' in 1.2.\n",
      "  warnings.warn(\n"
     ]
    },
    {
     "data": {
      "image/png": "[encoded data removed]",
      "text/plain": [
       "<Figure size 720x720 with 3 Axes>"
      ]
     },
     "metadata": {
      "needs_background": "light"
     },
     "output_type": "display_data"
    }
   ],
   "source": [
    "plt.figure(figsize=(10, 10))\n",
    "\n",
    "plt.subplot(3, 1, 1)\n",
    "df_rfm_k3 = kmeans(RFM_Table_New_scaled, 3, RFM_Table)\n",
    "\n",
    "plt.subplot(3, 1, 2)\n",
    "df_rfm_k4 = kmeans(RFM_Table_New_scaled, 4, RFM_Table)\n",
    "\n",
    "plt.subplot(3, 1, 3)\n",
    "df_rfm_k5 = kmeans(RFM_Table_New_scaled, 5, RFM_Table)\n",
    "\n",
    "plt.tight_layout()"
   ]
  },
  {
   "cell_type": "code",
   "execution_count": 101,
   "metadata": {},
   "outputs": [],
   "source": [
    "def snake_plot(normalised_df_rfm, df_rfm_kmeans, df_rfm_original):\n",
    "\n",
    "    normalised_df_rfm = pd.DataFrame(normalised_df_rfm, \n",
    "                                       index=RFM_Table.index, \n",
    "                                       columns=RFM_Table.columns)\n",
    "    normalised_df_rfm['Cluster'] = df_rfm_kmeans['Cluster']\n",
    "\n",
    "    # Melt data into long format\n",
    "    df_melt = pd.melt(normalised_df_rfm.reset_index(), \n",
    "                        id_vars=['memberId', 'Cluster'],\n",
    "                        value_vars=['Recency', 'Frequency', 'Monetary'], \n",
    "                        var_name='Metric', \n",
    "                        value_name='Value')\n",
    "\n",
    "    plt.xlabel('Metric')\n",
    "    plt.ylabel('Value')\n",
    "    sns.pointplot(data=df_melt, x='Metric', y='Value', hue='Cluster')\n",
    "    \n",
    "    return"
   ]
  },
  {
   "cell_type": "code",
   "execution_count": 102,
   "metadata": {},
   "outputs": [
    {
     "data": {
      "image/png": "[encoded data removed]",
      "text/plain": [
       "<Figure size 648x648 with 3 Axes>"
      ]
     },
     "metadata": {
      "needs_background": "light"
     },
     "output_type": "display_data"
    }
   ],
   "source": [
    "plt.figure(figsize=(9, 9))\n",
    "\n",
    "plt.subplot(3, 1, 1)\n",
    "plt.title('Snake Plot of K-Means = 3')\n",
    "snake_plot(RFM_Table_New_scaled, df_rfm_k3, RFM_Table)\n",
    "\n",
    "plt.subplot(3, 1, 2)\n",
    "plt.title('Snake Plot of K-Means = 4')\n",
    "snake_plot(RFM_Table_New_scaled, df_rfm_k4, RFM_Table)\n",
    "\n",
    "plt.subplot(3, 1, 3)\n",
    "plt.title('Snake Plot of K-Means = 5')\n",
    "snake_plot(RFM_Table_New_scaled, df_rfm_k5, RFM_Table)\n",
    "\n",
    "plt.tight_layout()"
   ]
  },
  {
   "cell_type": "markdown",
   "metadata": {},
   "source": [
    "Evaluating Model: K-Means Clustering\n",
    "Davies Bouldin Score is a metric for evaluating clustering algorithms. The smaller Davies Bouldin Score is The more optimal the cluster.\n",
    "\n",
    "K-Means = 3"
   ]
  },
  {
   "cell_type": "code",
   "execution_count": 103,
   "metadata": {},
   "outputs": [
    {
     "data": {
      "text/html": [
       "<style>#sk-container-id-2 {color: black;background-color: white;}#sk-container-id-2 pre{padding: 0;}#sk-container-id-2 div.sk-toggleable {background-color: white;}#sk-container-id-2 label.sk-toggleable__label {cursor: pointer;display: block;width: 100%;margin-bottom: 0;padding: 0.3em;box-sizing: border-box;text-align: center;}#sk-container-id-2 label.sk-toggleable__label-arrow:before {content: \"▸\";float: left;margin-right: 0.25em;color: #696969;}#sk-container-id-2 label.sk-toggleable__label-arrow:hover:before {color: black;}#sk-container-id-2 div.sk-estimator:hover label.sk-toggleable__label-arrow:before {color: black;}#sk-container-id-2 div.sk-toggleable__content {max-height: 0;max-width: 0;overflow: hidden;text-align: left;background-color: #f0f8ff;}#sk-container-id-2 div.sk-toggleable__content pre {margin: 0.2em;color: black;border-radius: 0.25em;background-color: #f0f8ff;}#sk-container-id-2 input.sk-toggleable__control:checked~div.sk-toggleable__content {max-height: 200px;max-width: 100%;overflow: auto;}#sk-container-id-2 input.sk-toggleable__control:checked~label.sk-toggleable__label-arrow:before {content: \"▾\";}#sk-container-id-2 div.sk-estimator input.sk-toggleable__control:checked~label.sk-toggleable__label {background-color: #d4ebff;}#sk-container-id-2 div.sk-label input.sk-toggleable__control:checked~label.sk-toggleable__label {background-color: #d4ebff;}#sk-container-id-2 input.sk-hidden--visually {border: 0;clip: rect(1px 1px 1px 1px);clip: rect(1px, 1px, 1px, 1px);height: 1px;margin: -1px;overflow: hidden;padding: 0;position: absolute;width: 1px;}#sk-container-id-2 div.sk-estimator {font-family: monospace;background-color: #f0f8ff;border: 1px dotted black;border-radius: 0.25em;box-sizing: border-box;margin-bottom: 0.5em;}#sk-container-id-2 div.sk-estimator:hover {background-color: #d4ebff;}#sk-container-id-2 div.sk-parallel-item::after {content: \"\";width: 100%;border-bottom: 1px solid gray;flex-grow: 1;}#sk-container-id-2 div.sk-label:hover label.sk-toggleable__label {background-color: #d4ebff;}#sk-container-id-2 div.sk-serial::before {content: \"\";position: absolute;border-left: 1px solid gray;box-sizing: border-box;top: 0;bottom: 0;left: 50%;z-index: 0;}#sk-container-id-2 div.sk-serial {display: flex;flex-direction: column;align-items: center;background-color: white;padding-right: 0.2em;padding-left: 0.2em;position: relative;}#sk-container-id-2 div.sk-item {position: relative;z-index: 1;}#sk-container-id-2 div.sk-parallel {display: flex;align-items: stretch;justify-content: center;background-color: white;position: relative;}#sk-container-id-2 div.sk-item::before, #sk-container-id-2 div.sk-parallel-item::before {content: \"\";position: absolute;border-left: 1px solid gray;box-sizing: border-box;top: 0;bottom: 0;left: 50%;z-index: -1;}#sk-container-id-2 div.sk-parallel-item {display: flex;flex-direction: column;z-index: 1;position: relative;background-color: white;}#sk-container-id-2 div.sk-parallel-item:first-child::after {align-self: flex-end;width: 50%;}#sk-container-id-2 div.sk-parallel-item:last-child::after {align-self: flex-start;width: 50%;}#sk-container-id-2 div.sk-parallel-item:only-child::after {width: 0;}#sk-container-id-2 div.sk-dashed-wrapped {border: 1px dashed gray;margin: 0 0.4em 0.5em 0.4em;box-sizing: border-box;padding-bottom: 0.4em;background-color: white;}#sk-container-id-2 div.sk-label label {font-family: monospace;font-weight: bold;display: inline-block;line-height: 1.2em;}#sk-container-id-2 div.sk-label-container {text-align: center;}#sk-container-id-2 div.sk-container {/* jupyter's `normalize.less` sets `[hidden] { display: none; }` but bootstrap.min.css set `[hidden] { display: none !important; }` so we also need the `!important` here to be able to override the default hidden behavior on the sphinx rendered scikit-learn.org. See: https://github.com/scikit-learn/scikit-learn/issues/21755 */display: inline-block !important;position: relative;}#sk-container-id-2 div.sk-text-repr-fallback {display: none;}</style><div id=\"sk-container-id-2\" class=\"sk-top-container\"><div class=\"sk-text-repr-fallback\"><pre>KMeans(n_clusters=3)</pre><b>In a Jupyter environment, please rerun this cell to show the HTML representation or trust the notebook. <br />On GitHub, the HTML representation is unable to render, please try loading this page with nbviewer.org.</b></div><div class=\"sk-container\" hidden><div class=\"sk-item\"><div class=\"sk-estimator sk-toggleable\"><input class=\"sk-toggleable__control sk-hidden--visually\" id=\"sk-estimator-id-2\" type=\"checkbox\" checked><label for=\"sk-estimator-id-2\" class=\"sk-toggleable__label sk-toggleable__label-arrow\">KMeans</label><div class=\"sk-toggleable__content\"><pre>KMeans(n_clusters=3)</pre></div></div></div></div></div>"
      ],
      "text/plain": [
       "KMeans(n_clusters=3)"
      ]
     },
     "execution_count": 103,
     "metadata": {},
     "output_type": "execute_result"
    }
   ],
   "source": [
    "kmeans = KMeans(n_clusters=3)\n",
    "kmeans.fit(X)"
   ]
  },
  {
   "cell_type": "code",
   "execution_count": 104,
   "metadata": {},
   "outputs": [
    {
     "name": "stdout",
     "output_type": "stream",
     "text": [
      "1.0260692831469145\n"
     ]
    }
   ],
   "source": [
    "print(davies_bouldin_score(X, kmeans.labels_))\n"
   ]
  },
  {
   "cell_type": "code",
   "execution_count": 105,
   "metadata": {},
   "outputs": [
    {
     "data": {
      "text/html": [
       "<style>#sk-container-id-3 {color: black;background-color: white;}#sk-container-id-3 pre{padding: 0;}#sk-container-id-3 div.sk-toggleable {background-color: white;}#sk-container-id-3 label.sk-toggleable__label {cursor: pointer;display: block;width: 100%;margin-bottom: 0;padding: 0.3em;box-sizing: border-box;text-align: center;}#sk-container-id-3 label.sk-toggleable__label-arrow:before {content: \"▸\";float: left;margin-right: 0.25em;color: #696969;}#sk-container-id-3 label.sk-toggleable__label-arrow:hover:before {color: black;}#sk-container-id-3 div.sk-estimator:hover label.sk-toggleable__label-arrow:before {color: black;}#sk-container-id-3 div.sk-toggleable__content {max-height: 0;max-width: 0;overflow: hidden;text-align: left;background-color: #f0f8ff;}#sk-container-id-3 div.sk-toggleable__content pre {margin: 0.2em;color: black;border-radius: 0.25em;background-color: #f0f8ff;}#sk-container-id-3 input.sk-toggleable__control:checked~div.sk-toggleable__content {max-height: 200px;max-width: 100%;overflow: auto;}#sk-container-id-3 input.sk-toggleable__control:checked~label.sk-toggleable__label-arrow:before {content: \"▾\";}#sk-container-id-3 div.sk-estimator input.sk-toggleable__control:checked~label.sk-toggleable__label {background-color: #d4ebff;}#sk-container-id-3 div.sk-label input.sk-toggleable__control:checked~label.sk-toggleable__label {background-color: #d4ebff;}#sk-container-id-3 input.sk-hidden--visually {border: 0;clip: rect(1px 1px 1px 1px);clip: rect(1px, 1px, 1px, 1px);height: 1px;margin: -1px;overflow: hidden;padding: 0;position: absolute;width: 1px;}#sk-container-id-3 div.sk-estimator {font-family: monospace;background-color: #f0f8ff;border: 1px dotted black;border-radius: 0.25em;box-sizing: border-box;margin-bottom: 0.5em;}#sk-container-id-3 div.sk-estimator:hover {background-color: #d4ebff;}#sk-container-id-3 div.sk-parallel-item::after {content: \"\";width: 100%;border-bottom: 1px solid gray;flex-grow: 1;}#sk-container-id-3 div.sk-label:hover label.sk-toggleable__label {background-color: #d4ebff;}#sk-container-id-3 div.sk-serial::before {content: \"\";position: absolute;border-left: 1px solid gray;box-sizing: border-box;top: 0;bottom: 0;left: 50%;z-index: 0;}#sk-container-id-3 div.sk-serial {display: flex;flex-direction: column;align-items: center;background-color: white;padding-right: 0.2em;padding-left: 0.2em;position: relative;}#sk-container-id-3 div.sk-item {position: relative;z-index: 1;}#sk-container-id-3 div.sk-parallel {display: flex;align-items: stretch;justify-content: center;background-color: white;position: relative;}#sk-container-id-3 div.sk-item::before, #sk-container-id-3 div.sk-parallel-item::before {content: \"\";position: absolute;border-left: 1px solid gray;box-sizing: border-box;top: 0;bottom: 0;left: 50%;z-index: -1;}#sk-container-id-3 div.sk-parallel-item {display: flex;flex-direction: column;z-index: 1;position: relative;background-color: white;}#sk-container-id-3 div.sk-parallel-item:first-child::after {align-self: flex-end;width: 50%;}#sk-container-id-3 div.sk-parallel-item:last-child::after {align-self: flex-start;width: 50%;}#sk-container-id-3 div.sk-parallel-item:only-child::after {width: 0;}#sk-container-id-3 div.sk-dashed-wrapped {border: 1px dashed gray;margin: 0 0.4em 0.5em 0.4em;box-sizing: border-box;padding-bottom: 0.4em;background-color: white;}#sk-container-id-3 div.sk-label label {font-family: monospace;font-weight: bold;display: inline-block;line-height: 1.2em;}#sk-container-id-3 div.sk-label-container {text-align: center;}#sk-container-id-3 div.sk-container {/* jupyter's `normalize.less` sets `[hidden] { display: none; }` but bootstrap.min.css set `[hidden] { display: none !important; }` so we also need the `!important` here to be able to override the default hidden behavior on the sphinx rendered scikit-learn.org. See: https://github.com/scikit-learn/scikit-learn/issues/21755 */display: inline-block !important;position: relative;}#sk-container-id-3 div.sk-text-repr-fallback {display: none;}</style><div id=\"sk-container-id-3\" class=\"sk-top-container\"><div class=\"sk-text-repr-fallback\"><pre>KMeans(n_clusters=4)</pre><b>In a Jupyter environment, please rerun this cell to show the HTML representation or trust the notebook. <br />On GitHub, the HTML representation is unable to render, please try loading this page with nbviewer.org.</b></div><div class=\"sk-container\" hidden><div class=\"sk-item\"><div class=\"sk-estimator sk-toggleable\"><input class=\"sk-toggleable__control sk-hidden--visually\" id=\"sk-estimator-id-3\" type=\"checkbox\" checked><label for=\"sk-estimator-id-3\" class=\"sk-toggleable__label sk-toggleable__label-arrow\">KMeans</label><div class=\"sk-toggleable__content\"><pre>KMeans(n_clusters=4)</pre></div></div></div></div></div>"
      ],
      "text/plain": [
       "KMeans(n_clusters=4)"
      ]
     },
     "execution_count": 105,
     "metadata": {},
     "output_type": "execute_result"
    }
   ],
   "source": [
    "kmeans = KMeans(n_clusters=4)\n",
    "kmeans.fit(X)"
   ]
  },
  {
   "cell_type": "code",
   "execution_count": 106,
   "metadata": {},
   "outputs": [
    {
     "name": "stdout",
     "output_type": "stream",
     "text": [
      "0.9073714606225262\n"
     ]
    }
   ],
   "source": [
    "print(davies_bouldin_score(X, kmeans.labels_))\n"
   ]
  },
  {
   "cell_type": "code",
   "execution_count": 107,
   "metadata": {},
   "outputs": [
    {
     "data": {
      "text/html": [
       "<style>#sk-container-id-4 {color: black;background-color: white;}#sk-container-id-4 pre{padding: 0;}#sk-container-id-4 div.sk-toggleable {background-color: white;}#sk-container-id-4 label.sk-toggleable__label {cursor: pointer;display: block;width: 100%;margin-bottom: 0;padding: 0.3em;box-sizing: border-box;text-align: center;}#sk-container-id-4 label.sk-toggleable__label-arrow:before {content: \"▸\";float: left;margin-right: 0.25em;color: #696969;}#sk-container-id-4 label.sk-toggleable__label-arrow:hover:before {color: black;}#sk-container-id-4 div.sk-estimator:hover label.sk-toggleable__label-arrow:before {color: black;}#sk-container-id-4 div.sk-toggleable__content {max-height: 0;max-width: 0;overflow: hidden;text-align: left;background-color: #f0f8ff;}#sk-container-id-4 div.sk-toggleable__content pre {margin: 0.2em;color: black;border-radius: 0.25em;background-color: #f0f8ff;}#sk-container-id-4 input.sk-toggleable__control:checked~div.sk-toggleable__content {max-height: 200px;max-width: 100%;overflow: auto;}#sk-container-id-4 input.sk-toggleable__control:checked~label.sk-toggleable__label-arrow:before {content: \"▾\";}#sk-container-id-4 div.sk-estimator input.sk-toggleable__control:checked~label.sk-toggleable__label {background-color: #d4ebff;}#sk-container-id-4 div.sk-label input.sk-toggleable__control:checked~label.sk-toggleable__label {background-color: #d4ebff;}#sk-container-id-4 input.sk-hidden--visually {border: 0;clip: rect(1px 1px 1px 1px);clip: rect(1px, 1px, 1px, 1px);height: 1px;margin: -1px;overflow: hidden;padding: 0;position: absolute;width: 1px;}#sk-container-id-4 div.sk-estimator {font-family: monospace;background-color: #f0f8ff;border: 1px dotted black;border-radius: 0.25em;box-sizing: border-box;margin-bottom: 0.5em;}#sk-container-id-4 div.sk-estimator:hover {background-color: #d4ebff;}#sk-container-id-4 div.sk-parallel-item::after {content: \"\";width: 100%;border-bottom: 1px solid gray;flex-grow: 1;}#sk-container-id-4 div.sk-label:hover label.sk-toggleable__label {background-color: #d4ebff;}#sk-container-id-4 div.sk-serial::before {content: \"\";position: absolute;border-left: 1px solid gray;box-sizing: border-box;top: 0;bottom: 0;left: 50%;z-index: 0;}#sk-container-id-4 div.sk-serial {display: flex;flex-direction: column;align-items: center;background-color: white;padding-right: 0.2em;padding-left: 0.2em;position: relative;}#sk-container-id-4 div.sk-item {position: relative;z-index: 1;}#sk-container-id-4 div.sk-parallel {display: flex;align-items: stretch;justify-content: center;background-color: white;position: relative;}#sk-container-id-4 div.sk-item::before, #sk-container-id-4 div.sk-parallel-item::before {content: \"\";position: absolute;border-left: 1px solid gray;box-sizing: border-box;top: 0;bottom: 0;left: 50%;z-index: -1;}#sk-container-id-4 div.sk-parallel-item {display: flex;flex-direction: column;z-index: 1;position: relative;background-color: white;}#sk-container-id-4 div.sk-parallel-item:first-child::after {align-self: flex-end;width: 50%;}#sk-container-id-4 div.sk-parallel-item:last-child::after {align-self: flex-start;width: 50%;}#sk-container-id-4 div.sk-parallel-item:only-child::after {width: 0;}#sk-container-id-4 div.sk-dashed-wrapped {border: 1px dashed gray;margin: 0 0.4em 0.5em 0.4em;box-sizing: border-box;padding-bottom: 0.4em;background-color: white;}#sk-container-id-4 div.sk-label label {font-family: monospace;font-weight: bold;display: inline-block;line-height: 1.2em;}#sk-container-id-4 div.sk-label-container {text-align: center;}#sk-container-id-4 div.sk-container {/* jupyter's `normalize.less` sets `[hidden] { display: none; }` but bootstrap.min.css set `[hidden] { display: none !important; }` so we also need the `!important` here to be able to override the default hidden behavior on the sphinx rendered scikit-learn.org. See: https://github.com/scikit-learn/scikit-learn/issues/21755 */display: inline-block !important;position: relative;}#sk-container-id-4 div.sk-text-repr-fallback {display: none;}</style><div id=\"sk-container-id-4\" class=\"sk-top-container\"><div class=\"sk-text-repr-fallback\"><pre>KMeans(n_clusters=5)</pre><b>In a Jupyter environment, please rerun this cell to show the HTML representation or trust the notebook. <br />On GitHub, the HTML representation is unable to render, please try loading this page with nbviewer.org.</b></div><div class=\"sk-container\" hidden><div class=\"sk-item\"><div class=\"sk-estimator sk-toggleable\"><input class=\"sk-toggleable__control sk-hidden--visually\" id=\"sk-estimator-id-4\" type=\"checkbox\" checked><label for=\"sk-estimator-id-4\" class=\"sk-toggleable__label sk-toggleable__label-arrow\">KMeans</label><div class=\"sk-toggleable__content\"><pre>KMeans(n_clusters=5)</pre></div></div></div></div></div>"
      ],
      "text/plain": [
       "KMeans(n_clusters=5)"
      ]
     },
     "execution_count": 107,
     "metadata": {},
     "output_type": "execute_result"
    }
   ],
   "source": [
    "kmeans = KMeans(n_clusters=5)\n",
    "kmeans.fit(X)"
   ]
  },
  {
   "cell_type": "code",
   "execution_count": 108,
   "metadata": {},
   "outputs": [
    {
     "name": "stdout",
     "output_type": "stream",
     "text": [
      "0.9913500929268271\n"
     ]
    }
   ],
   "source": [
    "print(davies_bouldin_score(X, kmeans.labels_))\n"
   ]
  },
  {
   "cell_type": "markdown",
   "metadata": {},
   "source": [
    "K-Means 4 clusters has lowest davies bouldin score than other cluster. Therefore the optimum cluster is 4.\n",
    "\n"
   ]
  },
  {
   "cell_type": "code",
   "execution_count": 109,
   "metadata": {},
   "outputs": [
    {
     "data": {
      "text/html": [
       "<div>\n",
       "<style scoped>\n",
       "    .dataframe tbody tr th:only-of-type {\n",
       "        vertical-align: middle;\n",
       "    }\n",
       "\n",
       "    .dataframe tbody tr th {\n",
       "        vertical-align: top;\n",
       "    }\n",
       "\n",
       "    .dataframe thead th {\n",
       "        text-align: right;\n",
       "    }\n",
       "</style>\n",
       "<table border=\"1\" class=\"dataframe\">\n",
       "  <thead>\n",
       "    <tr style=\"text-align: right;\">\n",
       "      <th></th>\n",
       "      <th>memberId</th>\n",
       "      <th>Recency</th>\n",
       "      <th>Frequency</th>\n",
       "      <th>Monetary</th>\n",
       "      <th>Cluster</th>\n",
       "    </tr>\n",
       "  </thead>\n",
       "  <tbody>\n",
       "    <tr>\n",
       "      <th>0</th>\n",
       "      <td>6661</td>\n",
       "      <td>15</td>\n",
       "      <td>4</td>\n",
       "      <td>996.330562</td>\n",
       "      <td>3</td>\n",
       "    </tr>\n",
       "    <tr>\n",
       "      <th>1</th>\n",
       "      <td>7428</td>\n",
       "      <td>51</td>\n",
       "      <td>1</td>\n",
       "      <td>560.000000</td>\n",
       "      <td>1</td>\n",
       "    </tr>\n",
       "    <tr>\n",
       "      <th>2</th>\n",
       "      <td>11777</td>\n",
       "      <td>14</td>\n",
       "      <td>5</td>\n",
       "      <td>2017.000000</td>\n",
       "      <td>3</td>\n",
       "    </tr>\n",
       "    <tr>\n",
       "      <th>3</th>\n",
       "      <td>17408</td>\n",
       "      <td>36</td>\n",
       "      <td>2</td>\n",
       "      <td>1460.000000</td>\n",
       "      <td>2</td>\n",
       "    </tr>\n",
       "    <tr>\n",
       "      <th>4</th>\n",
       "      <td>17411</td>\n",
       "      <td>110</td>\n",
       "      <td>3</td>\n",
       "      <td>2593.995171</td>\n",
       "      <td>2</td>\n",
       "    </tr>\n",
       "  </tbody>\n",
       "</table>\n",
       "</div>"
      ],
      "text/plain": [
       "   memberId  Recency  Frequency     Monetary  Cluster\n",
       "0      6661       15          4   996.330562        3\n",
       "1      7428       51          1   560.000000        1\n",
       "2     11777       14          5  2017.000000        3\n",
       "3     17408       36          2  1460.000000        2\n",
       "4     17411      110          3  2593.995171        2"
      ]
     },
     "execution_count": 109,
     "metadata": {},
     "output_type": "execute_result"
    }
   ],
   "source": [
    "df_rfm_k4.head()\n"
   ]
  },
  {
   "cell_type": "code",
   "execution_count": 110,
   "metadata": {},
   "outputs": [
    {
     "data": {
      "text/plain": [
       "1    1153\n",
       "2     789\n",
       "0     786\n",
       "3     655\n",
       "Name: Cluster, dtype: int64"
      ]
     },
     "execution_count": 110,
     "metadata": {},
     "output_type": "execute_result"
    }
   ],
   "source": [
    "df_rfm_k4.Cluster.value_counts()\n"
   ]
  },
  {
   "cell_type": "code",
   "execution_count": 111,
   "metadata": {},
   "outputs": [
    {
     "data": {
      "image/png": "[encoded data removed]",
      "text/plain": [
       "<Figure size 864x576 with 1 Axes>"
      ]
     },
     "metadata": {
      "needs_background": "light"
     },
     "output_type": "display_data"
    }
   ],
   "source": [
    "import seaborn as sns\n",
    "sq1=df_rfm_k4.groupby('Cluster')['memberId'].nunique().sort_values(ascending=False).reset_index()\n",
    "plt.figure(figsize=(12,8))\n",
    "sns.barplot(data=sq1, x=\"Cluster\", y=\"memberId\", palette = \"Greens_d\");"
   ]
  },
  {
   "cell_type": "markdown",
   "metadata": {},
   "source": [
    "Interpretation of the clusters formed using k-means.\n",
    "\n"
   ]
  },
  {
   "cell_type": "code",
   "execution_count": 112,
   "metadata": {},
   "outputs": [],
   "source": [
    "def rfm_values(df):\n",
    "\n",
    "    df_new = df.groupby(['Cluster']).agg({\n",
    "        'Recency': 'mean',\n",
    "        'Frequency': 'mean',\n",
    "        'Monetary': ['mean', 'count']\n",
    "    }).round(0)\n",
    "    \n",
    "    return df_new"
   ]
  },
  {
   "cell_type": "code",
   "execution_count": 113,
   "metadata": {},
   "outputs": [
    {
     "data": {
      "text/html": [
       "<div>\n",
       "<style scoped>\n",
       "    .dataframe tbody tr th:only-of-type {\n",
       "        vertical-align: middle;\n",
       "    }\n",
       "\n",
       "    .dataframe tbody tr th {\n",
       "        vertical-align: top;\n",
       "    }\n",
       "\n",
       "    .dataframe thead tr th {\n",
       "        text-align: left;\n",
       "    }\n",
       "\n",
       "    .dataframe thead tr:last-of-type th {\n",
       "        text-align: right;\n",
       "    }\n",
       "</style>\n",
       "<table border=\"1\" class=\"dataframe\">\n",
       "  <thead>\n",
       "    <tr>\n",
       "      <th></th>\n",
       "      <th>Recency</th>\n",
       "      <th>Frequency</th>\n",
       "      <th colspan=\"2\" halign=\"left\">Monetary</th>\n",
       "    </tr>\n",
       "    <tr>\n",
       "      <th></th>\n",
       "      <th>mean</th>\n",
       "      <th>mean</th>\n",
       "      <th>mean</th>\n",
       "      <th>count</th>\n",
       "    </tr>\n",
       "    <tr>\n",
       "      <th>Cluster</th>\n",
       "      <th></th>\n",
       "      <th></th>\n",
       "      <th></th>\n",
       "      <th></th>\n",
       "    </tr>\n",
       "  </thead>\n",
       "  <tbody>\n",
       "    <tr>\n",
       "      <th>0</th>\n",
       "      <td>13.0</td>\n",
       "      <td>2.0</td>\n",
       "      <td>580.0</td>\n",
       "      <td>786</td>\n",
       "    </tr>\n",
       "    <tr>\n",
       "      <th>1</th>\n",
       "      <td>107.0</td>\n",
       "      <td>1.0</td>\n",
       "      <td>340.0</td>\n",
       "      <td>1153</td>\n",
       "    </tr>\n",
       "    <tr>\n",
       "      <th>2</th>\n",
       "      <td>88.0</td>\n",
       "      <td>3.0</td>\n",
       "      <td>1522.0</td>\n",
       "      <td>789</td>\n",
       "    </tr>\n",
       "    <tr>\n",
       "      <th>3</th>\n",
       "      <td>15.0</td>\n",
       "      <td>7.0</td>\n",
       "      <td>3673.0</td>\n",
       "      <td>655</td>\n",
       "    </tr>\n",
       "  </tbody>\n",
       "</table>\n",
       "</div>"
      ],
      "text/plain": [
       "        Recency Frequency Monetary      \n",
       "           mean      mean     mean count\n",
       "Cluster                                 \n",
       "0          13.0       2.0    580.0   786\n",
       "1         107.0       1.0    340.0  1153\n",
       "2          88.0       3.0   1522.0   789\n",
       "3          15.0       7.0   3673.0   655"
      ]
     },
     "execution_count": 113,
     "metadata": {},
     "output_type": "execute_result"
    }
   ],
   "source": [
    "rfm_values(df_rfm_k4)\n"
   ]
  },
  {
   "cell_type": "markdown",
   "metadata": {},
   "source": [
    "\"Cluster 0\" has 23% customers. It belongs to the \"Loyal Customers\" segment as they Haven’t purchased for some time, but used to purchase frequently (F=2) and spent a lot. (R=3, F=2, M=2)\n",
    "\n",
    "\"Cluster 1\" has 34% customers. It can be interpreted as \"Alomost Lost\". They purchase recently (R=2). However they do not purchase frequently and do not spent a lot. (R=2, F=3, M=3)\n",
    "\n",
    "\"Cluster 2\" has 23% customers. It can be interpreted as \"Lost Cheap Customers\". Their last purchase is long ago (R=4), purchased very few (F=4) and spent little (M=4). (R=4, F=4, M=4)\n",
    "\n",
    "\"Cluster 3\" has 19% customers. It belongs to the \"Best Customers\" segment which we saw earlier as they purchase recently (R=1), frequent buyers (F=1), and spent the most (M=1). (R=1, F=1, M=1)"
   ]
  },
  {
   "cell_type": "code",
   "execution_count": null,
   "metadata": {},
   "outputs": [],
   "source": []
  }
 ],
 "metadata": {
  "kernelspec": {
   "display_name": "Python 3 (ipykernel)",
   "language": "python",
   "name": "python3"
  },
  "language_info": {
   "codemirror_mode": {
    "name": "ipython",
    "version": 3
   },
   "file_extension": ".py",
   "mimetype": "text/x-python",
   "name": "python",
   "nbconvert_exporter": "python",
   "pygments_lexer": "ipython3",
   "version": "3.8.11"
  }
 },
 "nbformat": 4,
 "nbformat_minor": 4
}
